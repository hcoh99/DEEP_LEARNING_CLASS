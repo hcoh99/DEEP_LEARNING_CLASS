{
 "cells": [
  {
   "cell_type": "code",
   "execution_count": 1,
   "id": "70538da8",
   "metadata": {},
   "outputs": [],
   "source": [
    "from sklearn.datasets import load_breast_cancer\n",
    "import pandas as pd\n",
    "import numpy as np\n",
    "import matplotlib.pyplot as plt\n",
    "from sklearn.model_selection import train_test_split\n",
    "from sklearn.preprocessing import StandardScaler, LabelEncoder\n",
    "from sklearn.neighbors import KNeighborsClassifier\n",
    "import seaborn as sns"
   ]
  },
  {
   "cell_type": "code",
   "execution_count": 2,
   "id": "6b3d9b5f",
   "metadata": {},
   "outputs": [],
   "source": [
    "\n",
    "import numpy as np\n",
    "import pandas as pd\n",
    "import seaborn as sns\n",
    "from sklearn.model_selection import train_test_split\n",
    "import tensorflow as tf\n",
    "from tensorflow import keras"
   ]
  },
  {
   "cell_type": "code",
   "execution_count": 3,
   "id": "1951df40-2e9b-47e1-967d-aaa971d50ffb",
   "metadata": {},
   "outputs": [],
   "source": [
    "import numpy as np\n",
    "import pandas as pd\n",
    "from sklearn.decomposition import PCA\n",
    "from sklearn.ensemble import RandomForestRegressor\n",
    "from sklearn.metrics import mean_squared_error, r2_score\n",
    "from sklearn.model_selection import train_test_split\n",
    "from sklearn.preprocessing import StandardScaler\n",
    "from sklearn.datasets import load_diabetes"
   ]
  },
  {
   "cell_type": "code",
   "execution_count": 4,
   "id": "e35185da-ace0-4cc5-8d70-8d44115acd6d",
   "metadata": {},
   "outputs": [],
   "source": [
    "import numpy as np\n",
    "import pandas as pd\n",
    "from sklearn.decomposition import PCA\n",
    "from sklearn.preprocessing import StandardScaler\n",
    "from sklearn.datasets import load_diabetes\n",
    "from tensorflow.keras import layers, models\n",
    "from sklearn.model_selection import train_test_split\n",
    "from sklearn.metrics import mean_squared_error, r2_score\n"
   ]
  },
  {
   "cell_type": "markdown",
   "id": "6f9fce61-537d-4fee-b0d6-752cdce40f3c",
   "metadata": {},
   "source": [
    "## 데이터 로드"
   ]
  },
  {
   "cell_type": "code",
   "execution_count": 47,
   "id": "02426be8",
   "metadata": {
    "scrolled": true
   },
   "outputs": [
    {
     "data": {
      "text/html": [
       "<div>\n",
       "<style scoped>\n",
       "    .dataframe tbody tr th:only-of-type {\n",
       "        vertical-align: middle;\n",
       "    }\n",
       "\n",
       "    .dataframe tbody tr th {\n",
       "        vertical-align: top;\n",
       "    }\n",
       "\n",
       "    .dataframe thead th {\n",
       "        text-align: right;\n",
       "    }\n",
       "</style>\n",
       "<table border=\"1\" class=\"dataframe\">\n",
       "  <thead>\n",
       "    <tr style=\"text-align: right;\">\n",
       "      <th></th>\n",
       "      <th>Pregnancies</th>\n",
       "      <th>Glucose</th>\n",
       "      <th>BloodPressure</th>\n",
       "      <th>SkinThickness</th>\n",
       "      <th>Insulin</th>\n",
       "      <th>BMI</th>\n",
       "      <th>DiabetesPedigreeFunction</th>\n",
       "      <th>Age</th>\n",
       "      <th>Outcome</th>\n",
       "    </tr>\n",
       "  </thead>\n",
       "  <tbody>\n",
       "    <tr>\n",
       "      <th>0</th>\n",
       "      <td>6</td>\n",
       "      <td>148</td>\n",
       "      <td>72</td>\n",
       "      <td>35</td>\n",
       "      <td>0</td>\n",
       "      <td>33.6</td>\n",
       "      <td>0.627</td>\n",
       "      <td>50</td>\n",
       "      <td>1</td>\n",
       "    </tr>\n",
       "    <tr>\n",
       "      <th>1</th>\n",
       "      <td>1</td>\n",
       "      <td>85</td>\n",
       "      <td>66</td>\n",
       "      <td>29</td>\n",
       "      <td>0</td>\n",
       "      <td>26.6</td>\n",
       "      <td>0.351</td>\n",
       "      <td>31</td>\n",
       "      <td>0</td>\n",
       "    </tr>\n",
       "    <tr>\n",
       "      <th>2</th>\n",
       "      <td>8</td>\n",
       "      <td>183</td>\n",
       "      <td>64</td>\n",
       "      <td>0</td>\n",
       "      <td>0</td>\n",
       "      <td>23.3</td>\n",
       "      <td>0.672</td>\n",
       "      <td>32</td>\n",
       "      <td>1</td>\n",
       "    </tr>\n",
       "    <tr>\n",
       "      <th>3</th>\n",
       "      <td>1</td>\n",
       "      <td>89</td>\n",
       "      <td>66</td>\n",
       "      <td>23</td>\n",
       "      <td>94</td>\n",
       "      <td>28.1</td>\n",
       "      <td>0.167</td>\n",
       "      <td>21</td>\n",
       "      <td>0</td>\n",
       "    </tr>\n",
       "    <tr>\n",
       "      <th>4</th>\n",
       "      <td>0</td>\n",
       "      <td>137</td>\n",
       "      <td>40</td>\n",
       "      <td>35</td>\n",
       "      <td>168</td>\n",
       "      <td>43.1</td>\n",
       "      <td>2.288</td>\n",
       "      <td>33</td>\n",
       "      <td>1</td>\n",
       "    </tr>\n",
       "    <tr>\n",
       "      <th>...</th>\n",
       "      <td>...</td>\n",
       "      <td>...</td>\n",
       "      <td>...</td>\n",
       "      <td>...</td>\n",
       "      <td>...</td>\n",
       "      <td>...</td>\n",
       "      <td>...</td>\n",
       "      <td>...</td>\n",
       "      <td>...</td>\n",
       "    </tr>\n",
       "    <tr>\n",
       "      <th>763</th>\n",
       "      <td>10</td>\n",
       "      <td>101</td>\n",
       "      <td>76</td>\n",
       "      <td>48</td>\n",
       "      <td>180</td>\n",
       "      <td>32.9</td>\n",
       "      <td>0.171</td>\n",
       "      <td>63</td>\n",
       "      <td>0</td>\n",
       "    </tr>\n",
       "    <tr>\n",
       "      <th>764</th>\n",
       "      <td>2</td>\n",
       "      <td>122</td>\n",
       "      <td>70</td>\n",
       "      <td>27</td>\n",
       "      <td>0</td>\n",
       "      <td>36.8</td>\n",
       "      <td>0.340</td>\n",
       "      <td>27</td>\n",
       "      <td>0</td>\n",
       "    </tr>\n",
       "    <tr>\n",
       "      <th>765</th>\n",
       "      <td>5</td>\n",
       "      <td>121</td>\n",
       "      <td>72</td>\n",
       "      <td>23</td>\n",
       "      <td>112</td>\n",
       "      <td>26.2</td>\n",
       "      <td>0.245</td>\n",
       "      <td>30</td>\n",
       "      <td>0</td>\n",
       "    </tr>\n",
       "    <tr>\n",
       "      <th>766</th>\n",
       "      <td>1</td>\n",
       "      <td>126</td>\n",
       "      <td>60</td>\n",
       "      <td>0</td>\n",
       "      <td>0</td>\n",
       "      <td>30.1</td>\n",
       "      <td>0.349</td>\n",
       "      <td>47</td>\n",
       "      <td>1</td>\n",
       "    </tr>\n",
       "    <tr>\n",
       "      <th>767</th>\n",
       "      <td>1</td>\n",
       "      <td>93</td>\n",
       "      <td>70</td>\n",
       "      <td>31</td>\n",
       "      <td>0</td>\n",
       "      <td>30.4</td>\n",
       "      <td>0.315</td>\n",
       "      <td>23</td>\n",
       "      <td>0</td>\n",
       "    </tr>\n",
       "  </tbody>\n",
       "</table>\n",
       "<p>768 rows × 9 columns</p>\n",
       "</div>"
      ],
      "text/plain": [
       "     Pregnancies  Glucose  BloodPressure  SkinThickness  Insulin   BMI  \\\n",
       "0              6      148             72             35        0  33.6   \n",
       "1              1       85             66             29        0  26.6   \n",
       "2              8      183             64              0        0  23.3   \n",
       "3              1       89             66             23       94  28.1   \n",
       "4              0      137             40             35      168  43.1   \n",
       "..           ...      ...            ...            ...      ...   ...   \n",
       "763           10      101             76             48      180  32.9   \n",
       "764            2      122             70             27        0  36.8   \n",
       "765            5      121             72             23      112  26.2   \n",
       "766            1      126             60              0        0  30.1   \n",
       "767            1       93             70             31        0  30.4   \n",
       "\n",
       "     DiabetesPedigreeFunction  Age  Outcome  \n",
       "0                       0.627   50        1  \n",
       "1                       0.351   31        0  \n",
       "2                       0.672   32        1  \n",
       "3                       0.167   21        0  \n",
       "4                       2.288   33        1  \n",
       "..                        ...  ...      ...  \n",
       "763                     0.171   63        0  \n",
       "764                     0.340   27        0  \n",
       "765                     0.245   30        0  \n",
       "766                     0.349   47        1  \n",
       "767                     0.315   23        0  \n",
       "\n",
       "[768 rows x 9 columns]"
      ]
     },
     "execution_count": 47,
     "metadata": {},
     "output_type": "execute_result"
    }
   ],
   "source": [
    "df = pd.read_csv(\"/Users/ohheungchan/workspace/AI_Study/diabetes.csv\")\n",
    "df"
   ]
  },
  {
   "cell_type": "markdown",
   "id": "ef1f1b68-97d7-4cdf-9224-639b09cf73b5",
   "metadata": {},
   "source": [
    "이 데이터셋은 당뇨병 예측을 위한 데이터로, 각 피처(특징)들은 환자의 건강 정보와 관련된 데이터를 나타냅니다. 아래는 각 피처에 대한 설명입니다.\n",
    "\n",
    "1. **Pregnancies (임신 횟수)**: 환자가 임신한 횟수를 나타냅니다. 이 값은 당뇨병 발병 가능성에 영향을 미칠 수 있습니다.\n",
    "\n",
    "2. **Glucose (혈당 수치)**: 2시간 동안의 경구 포도당 내성 검사에서 측정된 혈당 수치를 나타냅니다. 혈당 수치는 당뇨병을 진단하는 주요 기준 중 하나입니다.\n",
    "\n",
    "3. **BloodPressure (혈압)**: 환자의 이완기 혈압을 나타냅니다(단위: mmHg). 고혈압은 당뇨병과 관련된 중요한 위험 요인 중 하나입니다.\n",
    "\n",
    "4. **SkinThickness (피부 두께)**: 삼두근 피부 두께를 측정한 값으로, 체지방량을 추정하는 지표로 사용됩니다(단위: mm). 이 값이 비만과 관련이 있을 수 있습니다.\n",
    "\n",
    "5. **Insulin (인슐린 수치)**: 혈액에서 측정된 2시간 동안의 혈청 인슐린 수치(단위: μU/ml)를 나타냅니다. 인슐린 저항성이나 인슐린 분비량의 변화는 당뇨병과 관련이 있습니다.\n",
    "\n",
    "6. **BMI (체질량지수)**: 체중(kg)을 신장의 제곱(m²)으로 나눈 값으로, 비만도를 나타냅니다. BMI는 당뇨병 발병 위험과 밀접한 관련이 있습니다.\n",
    "\n",
    "7. **DiabetesPedigreeFunction (당뇨 유전적 계수)**: 가족력과 유전적 요인에 따른 당뇨병 발병 가능성을 나타내는 지표입니다. 값이 높을수록 가족 중 당뇨병 환자가 많거나 유전적 영향이 클 수 있습니다.\n",
    "\n",
    "8. **Age (나이)**: 환자의 나이를 나타냅니다. 나이가 많을수록 당뇨병 발병 위험이 높아질 수 있습니다.\n",
    "\n",
    "9. **Outcome (결과)**: 환자가 당뇨병을 가지고 있는지 여부를 나타냅니다. 1은 당뇨병이 있음을, 0은 당뇨병이 없음을 의미합니다.\n",
    "\n",
    "이 데이터셋은 각 환자의 건강 정보를 바탕으로 당뇨병 발병 여부를 예측하는 데 사용됩니다."
   ]
  },
  {
   "cell_type": "code",
   "execution_count": 48,
   "id": "a2b92f96",
   "metadata": {
    "scrolled": true
   },
   "outputs": [
    {
     "data": {
      "text/plain": [
       "Text(0.5, 1.0, 'Label')"
      ]
     },
     "execution_count": 48,
     "metadata": {},
     "output_type": "execute_result"
    },
    {
     "data": {
      "image/png": "[encoded data removed]",
      "text/plain": [
       "<Figure size 640x480 with 1 Axes>"
      ]
     },
     "metadata": {},
     "output_type": "display_data"
    }
   ],
   "source": [
    "# 레이블 갯수 확인 (그래프)\n",
    "sns.countplot(data = df, x=\"Outcome\")\n",
    "plt.xlabel(\"Outcome\")\n",
    "plt.ylabel(\"Count\")\n",
    "plt.title(\"Label\")"
   ]
  },
  {
   "cell_type": "code",
   "execution_count": 49,
   "id": "6bcca87e-c012-40d7-8a84-39b20a6b946d",
   "metadata": {},
   "outputs": [
    {
     "data": {
      "image/png": "[encoded data removed]",
      "text/plain": [
       "<Figure size 1000x1000 with 1 Axes>"
      ]
     },
     "metadata": {},
     "output_type": "display_data"
    }
   ],
   "source": [
    "df_corr=df.corr()\n",
    "\n",
    "#히트맵\n",
    "plt.figure(figsize=(10,10))\n",
    "sns.set(font_scale=0.8)\n",
    "sns.heatmap(df_corr, annot=True, cbar=False)\n",
    "plt.show()"
   ]
  },
  {
   "cell_type": "markdown",
   "id": "3a5e07c8-bdc1-413a-bc6d-cce1b78f6d8c",
   "metadata": {},
   "source": [
    "## 전처리"
   ]
  },
  {
   "cell_type": "code",
   "execution_count": 50,
   "id": "06852fe1",
   "metadata": {
    "scrolled": true
   },
   "outputs": [
    {
     "data": {
      "text/plain": [
       "Pregnancies                 0\n",
       "Glucose                     0\n",
       "BloodPressure               0\n",
       "SkinThickness               0\n",
       "Insulin                     0\n",
       "BMI                         0\n",
       "DiabetesPedigreeFunction    0\n",
       "Age                         0\n",
       "Outcome                     0\n",
       "dtype: int64"
      ]
     },
     "execution_count": 50,
     "metadata": {},
     "output_type": "execute_result"
    }
   ],
   "source": [
    "# 결측치 확인\n",
    "df.isnull().sum()"
   ]
  },
  {
   "cell_type": "code",
   "execution_count": 51,
   "id": "14476b03",
   "metadata": {},
   "outputs": [
    {
     "data": {
      "text/plain": [
       "Pregnancies                 0\n",
       "Glucose                     0\n",
       "BloodPressure               0\n",
       "SkinThickness               0\n",
       "Insulin                     0\n",
       "BMI                         0\n",
       "DiabetesPedigreeFunction    0\n",
       "Age                         0\n",
       "Outcome                     0\n",
       "dtype: int64"
      ]
     },
     "execution_count": 51,
     "metadata": {},
     "output_type": "execute_result"
    }
   ],
   "source": [
    "# 결측치 제거\n",
    "df = df.dropna()\n",
    "df.isnull().sum()"
   ]
  },
  {
   "cell_type": "code",
   "execution_count": 52,
   "id": "80484611-27b7-4ca8-ac33-242680b42632",
   "metadata": {
    "scrolled": true
   },
   "outputs": [
    {
     "data": {
      "image/png": "[encoded data removed]",
      "text/plain": [
       "<Figure size 1200x800 with 1 Axes>"
      ]
     },
     "metadata": {},
     "output_type": "display_data"
    }
   ],
   "source": [
    "import matplotlib.pyplot as plt\n",
    "\n",
    "# 박스플롯 그리기 (Outcome 피쳐는 제외)\n",
    "plt.figure(figsize=(12, 8))\n",
    "df.drop(columns='Outcome').boxplot()\n",
    "plt.title('Boxplot of Features')\n",
    "plt.xticks(rotation=45)  # x축 라벨 회전\n",
    "plt.tight_layout()  # 레이아웃 조정\n",
    "\n",
    "plt.show()"
   ]
  },
  {
   "cell_type": "markdown",
   "id": "c23a1362-7047-4666-b5e5-10bbd7f70396",
   "metadata": {},
   "source": [
    "## 이상치 처리 방안\n",
    "- BloodPressure, BMI가 0인것은 이상치로 판단하고 이상치 제거\n",
    "- 평균에 0인 값이 포함되면 평균치가 달라지므로 0인 값을 NaN으로 대체한 후 평균 계산후 대체"
   ]
  },
  {
   "cell_type": "code",
   "execution_count": 53,
   "id": "ab38d0c7-bb4d-4583-9bd2-07063087c88b",
   "metadata": {},
   "outputs": [
    {
     "name": "stdout",
     "output_type": "stream",
     "text": [
      "제거 전 데이터 개수:  768\n",
      "제거 후 데이터 개수:  729\n"
     ]
    }
   ],
   "source": [
    "#  BloodPressure, BMI가 0인것은 이상치로 판단하고 이상치 제거\n",
    "print(\"제거 전 데이터 개수: \", len(df))\n",
    "df = df[(df['BloodPressure'] != 0) & \n",
    "        (df['BMI'] != 0)]\n",
    "print(\"제거 후 데이터 개수: \", len(df))"
   ]
  },
  {
   "cell_type": "code",
   "execution_count": 54,
   "id": "35da20fd-6e5c-41e9-965a-15265759d375",
   "metadata": {},
   "outputs": [],
   "source": [
    "# 평균에 0인 값이 포함되면 평균치가 달라지므로 0인 값을 NaN으로 대체한 후 평균 계산후 대체\n",
    "# SkinThickness와 Insulin의 0을 NaN으로 변경\n",
    "df[['SkinThickness', 'Insulin']] = df[['SkinThickness', 'Insulin']].replace(0, np.nan)\n",
    "\n",
    "# SkinThickness와 Insulin의 NaN 값을 평균값으로 대체\n",
    "df['SkinThickness'] = df['SkinThickness'].fillna(df['SkinThickness'].mean())\n",
    "df['Insulin'] = df['Insulin'].fillna(df['Insulin'].mean())"
   ]
  },
  {
   "cell_type": "code",
   "execution_count": 55,
   "id": "935b7408-06fa-4f4c-a6f1-1d2b7c5f9e9c",
   "metadata": {},
   "outputs": [
    {
     "data": {
      "text/html": [
       "<div>\n",
       "<style scoped>\n",
       "    .dataframe tbody tr th:only-of-type {\n",
       "        vertical-align: middle;\n",
       "    }\n",
       "\n",
       "    .dataframe tbody tr th {\n",
       "        vertical-align: top;\n",
       "    }\n",
       "\n",
       "    .dataframe thead th {\n",
       "        text-align: right;\n",
       "    }\n",
       "</style>\n",
       "<table border=\"1\" class=\"dataframe\">\n",
       "  <thead>\n",
       "    <tr style=\"text-align: right;\">\n",
       "      <th></th>\n",
       "      <th>Pregnancies</th>\n",
       "      <th>Glucose</th>\n",
       "      <th>BloodPressure</th>\n",
       "      <th>SkinThickness</th>\n",
       "      <th>Insulin</th>\n",
       "      <th>DiabetesPedigreeFunction</th>\n",
       "      <th>Age</th>\n",
       "      <th>Outcome</th>\n",
       "    </tr>\n",
       "  </thead>\n",
       "  <tbody>\n",
       "    <tr>\n",
       "      <th>0</th>\n",
       "      <td>6</td>\n",
       "      <td>148</td>\n",
       "      <td>72</td>\n",
       "      <td>35.00000</td>\n",
       "      <td>155.717557</td>\n",
       "      <td>0.627</td>\n",
       "      <td>50</td>\n",
       "      <td>1</td>\n",
       "    </tr>\n",
       "    <tr>\n",
       "      <th>1</th>\n",
       "      <td>1</td>\n",
       "      <td>85</td>\n",
       "      <td>66</td>\n",
       "      <td>29.00000</td>\n",
       "      <td>155.717557</td>\n",
       "      <td>0.351</td>\n",
       "      <td>31</td>\n",
       "      <td>0</td>\n",
       "    </tr>\n",
       "    <tr>\n",
       "      <th>2</th>\n",
       "      <td>8</td>\n",
       "      <td>183</td>\n",
       "      <td>64</td>\n",
       "      <td>29.18622</td>\n",
       "      <td>155.717557</td>\n",
       "      <td>0.672</td>\n",
       "      <td>32</td>\n",
       "      <td>1</td>\n",
       "    </tr>\n",
       "    <tr>\n",
       "      <th>3</th>\n",
       "      <td>1</td>\n",
       "      <td>89</td>\n",
       "      <td>66</td>\n",
       "      <td>23.00000</td>\n",
       "      <td>94.000000</td>\n",
       "      <td>0.167</td>\n",
       "      <td>21</td>\n",
       "      <td>0</td>\n",
       "    </tr>\n",
       "    <tr>\n",
       "      <th>4</th>\n",
       "      <td>0</td>\n",
       "      <td>137</td>\n",
       "      <td>40</td>\n",
       "      <td>35.00000</td>\n",
       "      <td>168.000000</td>\n",
       "      <td>2.288</td>\n",
       "      <td>33</td>\n",
       "      <td>1</td>\n",
       "    </tr>\n",
       "    <tr>\n",
       "      <th>...</th>\n",
       "      <td>...</td>\n",
       "      <td>...</td>\n",
       "      <td>...</td>\n",
       "      <td>...</td>\n",
       "      <td>...</td>\n",
       "      <td>...</td>\n",
       "      <td>...</td>\n",
       "      <td>...</td>\n",
       "    </tr>\n",
       "    <tr>\n",
       "      <th>763</th>\n",
       "      <td>10</td>\n",
       "      <td>101</td>\n",
       "      <td>76</td>\n",
       "      <td>48.00000</td>\n",
       "      <td>180.000000</td>\n",
       "      <td>0.171</td>\n",
       "      <td>63</td>\n",
       "      <td>0</td>\n",
       "    </tr>\n",
       "    <tr>\n",
       "      <th>764</th>\n",
       "      <td>2</td>\n",
       "      <td>122</td>\n",
       "      <td>70</td>\n",
       "      <td>27.00000</td>\n",
       "      <td>155.717557</td>\n",
       "      <td>0.340</td>\n",
       "      <td>27</td>\n",
       "      <td>0</td>\n",
       "    </tr>\n",
       "    <tr>\n",
       "      <th>765</th>\n",
       "      <td>5</td>\n",
       "      <td>121</td>\n",
       "      <td>72</td>\n",
       "      <td>23.00000</td>\n",
       "      <td>112.000000</td>\n",
       "      <td>0.245</td>\n",
       "      <td>30</td>\n",
       "      <td>0</td>\n",
       "    </tr>\n",
       "    <tr>\n",
       "      <th>766</th>\n",
       "      <td>1</td>\n",
       "      <td>126</td>\n",
       "      <td>60</td>\n",
       "      <td>29.18622</td>\n",
       "      <td>155.717557</td>\n",
       "      <td>0.349</td>\n",
       "      <td>47</td>\n",
       "      <td>1</td>\n",
       "    </tr>\n",
       "    <tr>\n",
       "      <th>767</th>\n",
       "      <td>1</td>\n",
       "      <td>93</td>\n",
       "      <td>70</td>\n",
       "      <td>31.00000</td>\n",
       "      <td>155.717557</td>\n",
       "      <td>0.315</td>\n",
       "      <td>23</td>\n",
       "      <td>0</td>\n",
       "    </tr>\n",
       "  </tbody>\n",
       "</table>\n",
       "<p>729 rows × 8 columns</p>\n",
       "</div>"
      ],
      "text/plain": [
       "     Pregnancies  Glucose  BloodPressure  SkinThickness     Insulin  \\\n",
       "0              6      148             72       35.00000  155.717557   \n",
       "1              1       85             66       29.00000  155.717557   \n",
       "2              8      183             64       29.18622  155.717557   \n",
       "3              1       89             66       23.00000   94.000000   \n",
       "4              0      137             40       35.00000  168.000000   \n",
       "..           ...      ...            ...            ...         ...   \n",
       "763           10      101             76       48.00000  180.000000   \n",
       "764            2      122             70       27.00000  155.717557   \n",
       "765            5      121             72       23.00000  112.000000   \n",
       "766            1      126             60       29.18622  155.717557   \n",
       "767            1       93             70       31.00000  155.717557   \n",
       "\n",
       "     DiabetesPedigreeFunction  Age  Outcome  \n",
       "0                       0.627   50        1  \n",
       "1                       0.351   31        0  \n",
       "2                       0.672   32        1  \n",
       "3                       0.167   21        0  \n",
       "4                       2.288   33        1  \n",
       "..                        ...  ...      ...  \n",
       "763                     0.171   63        0  \n",
       "764                     0.340   27        0  \n",
       "765                     0.245   30        0  \n",
       "766                     0.349   47        1  \n",
       "767                     0.315   23        0  \n",
       "\n",
       "[729 rows x 8 columns]"
      ]
     },
     "execution_count": 55,
     "metadata": {},
     "output_type": "execute_result"
    }
   ],
   "source": [
    "X = df.drop('BMI' , axis=1)\n",
    "y = df['BMI']\n",
    "X"
   ]
  },
  {
   "cell_type": "code",
   "execution_count": 56,
   "id": "d11d928d-d985-4fcd-b90d-6af3bd8dd862",
   "metadata": {
    "scrolled": true
   },
   "outputs": [
    {
     "name": "stdout",
     "output_type": "stream",
     "text": [
      "PCA 주성분 6개의 분산 비율: [0.30189126 0.16835352 0.11771129 0.1155471  0.09550169 0.09093999]\n",
      "PCA 총 분산 비율: 0.89\n"
     ]
    }
   ],
   "source": [
    "# 2. 데이터 표준화\n",
    "scaler = StandardScaler()\n",
    "X_scaled = scaler.fit_transform(X)\n",
    "\n",
    "# 3. PCA 적용 (차원 축소)\n",
    "n_components = 6  # 6개의 주성분으로 차원 축소\n",
    "pca = PCA(n_components=n_components)\n",
    "X_pca = pca.fit_transform(X_scaled)\n",
    "\n",
    "# PCA 결과 설명력(분산 비율)\n",
    "explained_variance_ratio = pca.explained_variance_ratio_\n",
    "print(f\"PCA 주성분 {n_components}개의 분산 비율: {explained_variance_ratio}\")\n",
    "print(f\"PCA 총 분산 비율: {np.sum(explained_variance_ratio):.2f}\")\n",
    "\n"
   ]
  },
  {
   "cell_type": "code",
   "execution_count": 57,
   "id": "74f608f8-58c4-4c61-a1d5-11f15fd830c8",
   "metadata": {},
   "outputs": [
    {
     "data": {
      "text/html": [
       "<div>\n",
       "<style scoped>\n",
       "    .dataframe tbody tr th:only-of-type {\n",
       "        vertical-align: middle;\n",
       "    }\n",
       "\n",
       "    .dataframe tbody tr th {\n",
       "        vertical-align: top;\n",
       "    }\n",
       "\n",
       "    .dataframe thead th {\n",
       "        text-align: right;\n",
       "    }\n",
       "</style>\n",
       "<table border=\"1\" class=\"dataframe\">\n",
       "  <thead>\n",
       "    <tr style=\"text-align: right;\">\n",
       "      <th></th>\n",
       "      <th>PC1</th>\n",
       "      <th>PC2</th>\n",
       "      <th>PC3</th>\n",
       "      <th>PC4</th>\n",
       "      <th>PC5</th>\n",
       "      <th>PC6</th>\n",
       "      <th>Label</th>\n",
       "    </tr>\n",
       "  </thead>\n",
       "  <tbody>\n",
       "    <tr>\n",
       "      <th>0</th>\n",
       "      <td>2.042459</td>\n",
       "      <td>-0.098258</td>\n",
       "      <td>0.197642</td>\n",
       "      <td>0.639790</td>\n",
       "      <td>0.474555</td>\n",
       "      <td>-0.603771</td>\n",
       "      <td>33.6</td>\n",
       "    </tr>\n",
       "    <tr>\n",
       "      <th>1</th>\n",
       "      <td>-1.427947</td>\n",
       "      <td>0.006670</td>\n",
       "      <td>0.074560</td>\n",
       "      <td>-0.346733</td>\n",
       "      <td>0.335328</td>\n",
       "      <td>0.445766</td>\n",
       "      <td>26.6</td>\n",
       "    </tr>\n",
       "    <tr>\n",
       "      <th>2</th>\n",
       "      <td>1.706646</td>\n",
       "      <td>0.694816</td>\n",
       "      <td>-0.620195</td>\n",
       "      <td>1.086122</td>\n",
       "      <td>0.420322</td>\n",
       "      <td>-1.138989</td>\n",
       "      <td>23.3</td>\n",
       "    </tr>\n",
       "    <tr>\n",
       "      <th>3</th>\n",
       "      <td>-2.227351</td>\n",
       "      <td>-0.201009</td>\n",
       "      <td>-0.243599</td>\n",
       "      <td>-0.444838</td>\n",
       "      <td>-0.083645</td>\n",
       "      <td>-0.363585</td>\n",
       "      <td>28.1</td>\n",
       "    </tr>\n",
       "    <tr>\n",
       "      <th>4</th>\n",
       "      <td>0.553678</td>\n",
       "      <td>4.077165</td>\n",
       "      <td>1.950724</td>\n",
       "      <td>4.263435</td>\n",
       "      <td>0.727966</td>\n",
       "      <td>0.479396</td>\n",
       "      <td>43.1</td>\n",
       "    </tr>\n",
       "    <tr>\n",
       "      <th>...</th>\n",
       "      <td>...</td>\n",
       "      <td>...</td>\n",
       "      <td>...</td>\n",
       "      <td>...</td>\n",
       "      <td>...</td>\n",
       "      <td>...</td>\n",
       "      <td>...</td>\n",
       "    </tr>\n",
       "    <tr>\n",
       "      <th>724</th>\n",
       "      <td>1.786509</td>\n",
       "      <td>-2.358424</td>\n",
       "      <td>0.727522</td>\n",
       "      <td>-0.807980</td>\n",
       "      <td>1.983783</td>\n",
       "      <td>1.274052</td>\n",
       "      <td>32.8</td>\n",
       "    </tr>\n",
       "    <tr>\n",
       "      <th>725</th>\n",
       "      <td>-0.916936</td>\n",
       "      <td>0.219694</td>\n",
       "      <td>-0.320485</td>\n",
       "      <td>-0.473862</td>\n",
       "      <td>-0.159230</td>\n",
       "      <td>0.181033</td>\n",
       "      <td>39.4</td>\n",
       "    </tr>\n",
       "    <tr>\n",
       "      <th>726</th>\n",
       "      <td>-0.768474</td>\n",
       "      <td>-0.791483</td>\n",
       "      <td>-0.507074</td>\n",
       "      <td>-0.126910</td>\n",
       "      <td>-0.226695</td>\n",
       "      <td>-0.072030</td>\n",
       "      <td>36.1</td>\n",
       "    </tr>\n",
       "    <tr>\n",
       "      <th>727</th>\n",
       "      <td>0.475726</td>\n",
       "      <td>0.362165</td>\n",
       "      <td>-0.556926</td>\n",
       "      <td>0.331556</td>\n",
       "      <td>0.626355</td>\n",
       "      <td>-1.034361</td>\n",
       "      <td>32.4</td>\n",
       "    </tr>\n",
       "    <tr>\n",
       "      <th>728</th>\n",
       "      <td>-1.460782</td>\n",
       "      <td>0.293548</td>\n",
       "      <td>0.223379</td>\n",
       "      <td>-0.788409</td>\n",
       "      <td>0.163551</td>\n",
       "      <td>0.264386</td>\n",
       "      <td>22.9</td>\n",
       "    </tr>\n",
       "  </tbody>\n",
       "</table>\n",
       "<p>729 rows × 7 columns</p>\n",
       "</div>"
      ],
      "text/plain": [
       "          PC1       PC2       PC3       PC4       PC5       PC6  Label\n",
       "0    2.042459 -0.098258  0.197642  0.639790  0.474555 -0.603771   33.6\n",
       "1   -1.427947  0.006670  0.074560 -0.346733  0.335328  0.445766   26.6\n",
       "2    1.706646  0.694816 -0.620195  1.086122  0.420322 -1.138989   23.3\n",
       "3   -2.227351 -0.201009 -0.243599 -0.444838 -0.083645 -0.363585   28.1\n",
       "4    0.553678  4.077165  1.950724  4.263435  0.727966  0.479396   43.1\n",
       "..        ...       ...       ...       ...       ...       ...    ...\n",
       "724  1.786509 -2.358424  0.727522 -0.807980  1.983783  1.274052   32.8\n",
       "725 -0.916936  0.219694 -0.320485 -0.473862 -0.159230  0.181033   39.4\n",
       "726 -0.768474 -0.791483 -0.507074 -0.126910 -0.226695 -0.072030   36.1\n",
       "727  0.475726  0.362165 -0.556926  0.331556  0.626355 -1.034361   32.4\n",
       "728 -1.460782  0.293548  0.223379 -0.788409  0.163551  0.264386   22.9\n",
       "\n",
       "[729 rows x 7 columns]"
      ]
     },
     "execution_count": 57,
     "metadata": {},
     "output_type": "execute_result"
    }
   ],
   "source": [
    "\n",
    "# 4. PCA 결과를 DataFrame으로 변환하고 y(레이블)와 결합\n",
    "df_pca = pd.DataFrame(X_pca, columns=[f'PC{i+1}' for i in range(X_pca.shape[1])])\n",
    "df_pca['Label'] = y  # 'y'를 'Label'이라는 새로운 열로 추가\n",
    "\n",
    "# 결과 DataFrame 출력\n",
    "df_pca"
   ]
  },
  {
   "cell_type": "code",
   "execution_count": 58,
   "id": "c0811af4-dcc4-4802-850a-6b389defb71b",
   "metadata": {},
   "outputs": [
    {
     "data": {
      "text/plain": [
       "PC1       0\n",
       "PC2       0\n",
       "PC3       0\n",
       "PC4       0\n",
       "PC5       0\n",
       "PC6       0\n",
       "Label    39\n",
       "dtype: int64"
      ]
     },
     "execution_count": 58,
     "metadata": {},
     "output_type": "execute_result"
    }
   ],
   "source": [
    "# 결측치 확인\n",
    "df_pca.isnull().sum()"
   ]
  },
  {
   "cell_type": "code",
   "execution_count": 59,
   "id": "568bbe2d-b096-4bf9-955d-db2d676bebf2",
   "metadata": {},
   "outputs": [
    {
     "data": {
      "text/plain": [
       "pandas.core.frame.DataFrame"
      ]
     },
     "execution_count": 59,
     "metadata": {},
     "output_type": "execute_result"
    }
   ],
   "source": [
    "type(df_pca)"
   ]
  },
  {
   "cell_type": "code",
   "execution_count": 60,
   "id": "020330c2-5382-45c6-852a-37fc28ecd06a",
   "metadata": {},
   "outputs": [
    {
     "data": {
      "text/html": [
       "<div>\n",
       "<style scoped>\n",
       "    .dataframe tbody tr th:only-of-type {\n",
       "        vertical-align: middle;\n",
       "    }\n",
       "\n",
       "    .dataframe tbody tr th {\n",
       "        vertical-align: top;\n",
       "    }\n",
       "\n",
       "    .dataframe thead th {\n",
       "        text-align: right;\n",
       "    }\n",
       "</style>\n",
       "<table border=\"1\" class=\"dataframe\">\n",
       "  <thead>\n",
       "    <tr style=\"text-align: right;\">\n",
       "      <th></th>\n",
       "      <th>PC1</th>\n",
       "      <th>PC2</th>\n",
       "      <th>PC3</th>\n",
       "      <th>PC4</th>\n",
       "      <th>PC5</th>\n",
       "      <th>PC6</th>\n",
       "      <th>Label</th>\n",
       "    </tr>\n",
       "  </thead>\n",
       "  <tbody>\n",
       "    <tr>\n",
       "      <th>0</th>\n",
       "      <td>2.042459</td>\n",
       "      <td>-0.098258</td>\n",
       "      <td>0.197642</td>\n",
       "      <td>0.639790</td>\n",
       "      <td>0.474555</td>\n",
       "      <td>-0.603771</td>\n",
       "      <td>33.6</td>\n",
       "    </tr>\n",
       "    <tr>\n",
       "      <th>1</th>\n",
       "      <td>-1.427947</td>\n",
       "      <td>0.006670</td>\n",
       "      <td>0.074560</td>\n",
       "      <td>-0.346733</td>\n",
       "      <td>0.335328</td>\n",
       "      <td>0.445766</td>\n",
       "      <td>26.6</td>\n",
       "    </tr>\n",
       "    <tr>\n",
       "      <th>2</th>\n",
       "      <td>1.706646</td>\n",
       "      <td>0.694816</td>\n",
       "      <td>-0.620195</td>\n",
       "      <td>1.086122</td>\n",
       "      <td>0.420322</td>\n",
       "      <td>-1.138989</td>\n",
       "      <td>23.3</td>\n",
       "    </tr>\n",
       "    <tr>\n",
       "      <th>3</th>\n",
       "      <td>-2.227351</td>\n",
       "      <td>-0.201009</td>\n",
       "      <td>-0.243599</td>\n",
       "      <td>-0.444838</td>\n",
       "      <td>-0.083645</td>\n",
       "      <td>-0.363585</td>\n",
       "      <td>28.1</td>\n",
       "    </tr>\n",
       "    <tr>\n",
       "      <th>4</th>\n",
       "      <td>0.553678</td>\n",
       "      <td>4.077165</td>\n",
       "      <td>1.950724</td>\n",
       "      <td>4.263435</td>\n",
       "      <td>0.727966</td>\n",
       "      <td>0.479396</td>\n",
       "      <td>43.1</td>\n",
       "    </tr>\n",
       "    <tr>\n",
       "      <th>...</th>\n",
       "      <td>...</td>\n",
       "      <td>...</td>\n",
       "      <td>...</td>\n",
       "      <td>...</td>\n",
       "      <td>...</td>\n",
       "      <td>...</td>\n",
       "      <td>...</td>\n",
       "    </tr>\n",
       "    <tr>\n",
       "      <th>724</th>\n",
       "      <td>1.786509</td>\n",
       "      <td>-2.358424</td>\n",
       "      <td>0.727522</td>\n",
       "      <td>-0.807980</td>\n",
       "      <td>1.983783</td>\n",
       "      <td>1.274052</td>\n",
       "      <td>32.8</td>\n",
       "    </tr>\n",
       "    <tr>\n",
       "      <th>725</th>\n",
       "      <td>-0.916936</td>\n",
       "      <td>0.219694</td>\n",
       "      <td>-0.320485</td>\n",
       "      <td>-0.473862</td>\n",
       "      <td>-0.159230</td>\n",
       "      <td>0.181033</td>\n",
       "      <td>39.4</td>\n",
       "    </tr>\n",
       "    <tr>\n",
       "      <th>726</th>\n",
       "      <td>-0.768474</td>\n",
       "      <td>-0.791483</td>\n",
       "      <td>-0.507074</td>\n",
       "      <td>-0.126910</td>\n",
       "      <td>-0.226695</td>\n",
       "      <td>-0.072030</td>\n",
       "      <td>36.1</td>\n",
       "    </tr>\n",
       "    <tr>\n",
       "      <th>727</th>\n",
       "      <td>0.475726</td>\n",
       "      <td>0.362165</td>\n",
       "      <td>-0.556926</td>\n",
       "      <td>0.331556</td>\n",
       "      <td>0.626355</td>\n",
       "      <td>-1.034361</td>\n",
       "      <td>32.4</td>\n",
       "    </tr>\n",
       "    <tr>\n",
       "      <th>728</th>\n",
       "      <td>-1.460782</td>\n",
       "      <td>0.293548</td>\n",
       "      <td>0.223379</td>\n",
       "      <td>-0.788409</td>\n",
       "      <td>0.163551</td>\n",
       "      <td>0.264386</td>\n",
       "      <td>22.9</td>\n",
       "    </tr>\n",
       "  </tbody>\n",
       "</table>\n",
       "<p>690 rows × 7 columns</p>\n",
       "</div>"
      ],
      "text/plain": [
       "          PC1       PC2       PC3       PC4       PC5       PC6  Label\n",
       "0    2.042459 -0.098258  0.197642  0.639790  0.474555 -0.603771   33.6\n",
       "1   -1.427947  0.006670  0.074560 -0.346733  0.335328  0.445766   26.6\n",
       "2    1.706646  0.694816 -0.620195  1.086122  0.420322 -1.138989   23.3\n",
       "3   -2.227351 -0.201009 -0.243599 -0.444838 -0.083645 -0.363585   28.1\n",
       "4    0.553678  4.077165  1.950724  4.263435  0.727966  0.479396   43.1\n",
       "..        ...       ...       ...       ...       ...       ...    ...\n",
       "724  1.786509 -2.358424  0.727522 -0.807980  1.983783  1.274052   32.8\n",
       "725 -0.916936  0.219694 -0.320485 -0.473862 -0.159230  0.181033   39.4\n",
       "726 -0.768474 -0.791483 -0.507074 -0.126910 -0.226695 -0.072030   36.1\n",
       "727  0.475726  0.362165 -0.556926  0.331556  0.626355 -1.034361   32.4\n",
       "728 -1.460782  0.293548  0.223379 -0.788409  0.163551  0.264386   22.9\n",
       "\n",
       "[690 rows x 7 columns]"
      ]
     },
     "execution_count": 60,
     "metadata": {},
     "output_type": "execute_result"
    }
   ],
   "source": [
    "df_pca = df_pca.dropna()\n",
    "df_pca"
   ]
  },
  {
   "cell_type": "code",
   "execution_count": 61,
   "id": "4856b75e-f0d6-4555-86de-b9b72c74aaa1",
   "metadata": {},
   "outputs": [],
   "source": [
    "# split_sequence 함수\n",
    "def split_sequence(df, n_steps):\n",
    "    X, y = [], []\n",
    "    for i in range(len(df) - n_steps):\n",
    "        seq_x = df.iloc[i:i+n_steps, :-1].values  # 마지막 열(Rings)을 제외한 특징들\n",
    "        seq_y = df.iloc[i+n_steps, -1]  # Rings (예측할 값)\n",
    "        X.append(seq_x)\n",
    "        y.append(seq_y)\n",
    "    return np.array(X), np.array(y)"
   ]
  },
  {
   "cell_type": "code",
   "execution_count": 62,
   "id": "c0955001-a2db-4e1a-a698-44d4998d2a70",
   "metadata": {},
   "outputs": [
    {
     "name": "stdout",
     "output_type": "stream",
     "text": [
      "입력 데이터 (X): [[[ 2.04245861 -0.09825805  0.19764155  0.63979     0.47455539\n",
      "   -0.60377139]\n",
      "  [-1.4279472   0.00666991  0.07456004 -0.34673263  0.3353282\n",
      "    0.44576562]\n",
      "  [ 1.70664632  0.69481645 -0.62019518  1.08612249  0.42032201\n",
      "   -1.13898861]\n",
      "  ...\n",
      "  [ 0.55367836  4.07716545  1.95072409  4.26343482  0.7279662\n",
      "    0.47939562]\n",
      "  [-0.45794535 -0.61833601 -0.29111204 -0.669712    0.15781685\n",
      "    0.24687191]\n",
      "  [-1.21512497  0.2052495   0.0998874   0.45776604  1.69647679\n",
      "   -1.65862699]]\n",
      "\n",
      " [[-1.4279472   0.00666991  0.07456004 -0.34673263  0.3353282\n",
      "    0.44576562]\n",
      "  [ 1.70664632  0.69481645 -0.62019518  1.08612249  0.42032201\n",
      "   -1.13898861]\n",
      "  [-2.22735114 -0.20100943 -0.24359915 -0.44483757 -0.08364461\n",
      "   -0.36358468]\n",
      "  ...\n",
      "  [-0.45794535 -0.61833601 -0.29111204 -0.669712    0.15781685\n",
      "    0.24687191]\n",
      "  [-1.21512497  0.2052495   0.0998874   0.45776604  1.69647679\n",
      "   -1.65862699]\n",
      "  [-0.17517389 -0.89303102  0.23047552 -1.34276567 -0.91764692\n",
      "    0.39505321]]\n",
      "\n",
      " [[ 1.70664632  0.69481645 -0.62019518  1.08612249  0.42032201\n",
      "   -1.13898861]\n",
      "  [-2.22735114 -0.20100943 -0.24359915 -0.44483757 -0.08364461\n",
      "   -0.36358468]\n",
      "  [ 0.55367836  4.07716545  1.95072409  4.26343482  0.7279662\n",
      "    0.47939562]\n",
      "  ...\n",
      "  [-1.21512497  0.2052495   0.0998874   0.45776604  1.69647679\n",
      "   -1.65862699]\n",
      "  [-0.17517389 -0.89303102  0.23047552 -1.34276567 -0.91764692\n",
      "    0.39505321]\n",
      "  [ 2.09486979 -0.77410932  1.14223389  2.42017839 -0.47865441\n",
      "    1.95225714]]\n",
      "\n",
      " ...\n",
      "\n",
      " [[-1.11905763  0.00652004 -0.04514609 -1.12304465 -0.27975372\n",
      "    0.15914991]\n",
      "  [ 3.41087433 -1.23119512 -0.63528122 -0.30442079 -0.97574798\n",
      "   -0.79705218]\n",
      "  [-2.2330558   0.20106428  0.99440557  1.15866508  0.19236437\n",
      "   -0.28128459]\n",
      "  ...\n",
      "  [-0.63828534 -1.43437646 -0.53173949  0.06619662  1.41693705\n",
      "    0.40390878]\n",
      "  [ 1.78650898 -2.35842424  0.72752189 -0.80797973  1.98378279\n",
      "    1.27405243]\n",
      "  [-0.91693599  0.21969429 -0.32048489 -0.47386228 -0.15922976\n",
      "    0.18103272]]\n",
      "\n",
      " [[ 3.41087433 -1.23119512 -0.63528122 -0.30442079 -0.97574798\n",
      "   -0.79705218]\n",
      "  [-2.2330558   0.20106428  0.99440557  1.15866508  0.19236437\n",
      "   -0.28128459]\n",
      "  [ 2.24044888 -0.48378147 -0.57205702  0.41545264  0.35407199\n",
      "   -1.01762457]\n",
      "  ...\n",
      "  [ 1.78650898 -2.35842424  0.72752189 -0.80797973  1.98378279\n",
      "    1.27405243]\n",
      "  [-0.91693599  0.21969429 -0.32048489 -0.47386228 -0.15922976\n",
      "    0.18103272]\n",
      "  [-0.76847355 -0.79148284 -0.50707437 -0.12690972 -0.22669544\n",
      "   -0.07203031]]\n",
      "\n",
      " [[-2.2330558   0.20106428  0.99440557  1.15866508  0.19236437\n",
      "   -0.28128459]\n",
      "  [ 2.24044888 -0.48378147 -0.57205702  0.41545264  0.35407199\n",
      "   -1.01762457]\n",
      "  [-0.63828534 -1.43437646 -0.53173949  0.06619662  1.41693705\n",
      "    0.40390878]\n",
      "  ...\n",
      "  [-0.91693599  0.21969429 -0.32048489 -0.47386228 -0.15922976\n",
      "    0.18103272]\n",
      "  [-0.76847355 -0.79148284 -0.50707437 -0.12690972 -0.22669544\n",
      "   -0.07203031]\n",
      "  [ 0.47572622  0.36216513 -0.55692644  0.33155632  0.62635451\n",
      "   -1.03436137]]]\n",
      "출력 데이터 (y): [30.5 37.6 38.  27.1 30.1 25.8 45.8 29.6 43.3 34.6 39.3 35.4 39.8 29.\n",
      " 36.6 31.1 39.4 23.2 22.2 34.1 36.  31.6 24.8 19.9 27.6 24.  33.2 32.9\n",
      " 38.2 37.1 34.  40.2 22.7 45.4 27.4 42.  29.7 28.  39.1 19.4 24.2 24.4\n",
      " 33.7 34.7 23.  37.7 46.8 40.5 41.5 32.9 25.  25.4 32.8 29.  32.5 42.7\n",
      " 19.6 28.9 32.9 28.6 43.4 35.1 32.  24.7 32.6 37.7 25.  22.4 29.3 24.6\n",
      " 48.8 32.4 36.6 38.5 37.1 26.5 19.1 32.  46.7 23.8 24.7 33.9 31.6 20.4\n",
      " 28.7 49.7 39.  26.1 22.5 26.6 39.6 28.7 22.4 29.5 34.3 37.4 33.3 34.\n",
      " 31.2 34.  30.5 31.2 34.  33.7 28.2 23.2 53.2 34.2 33.6 26.8 33.3 55.\n",
      " 42.9 33.3 34.5 27.9 29.7 33.3 34.5 38.3 21.1 33.8 30.8 28.7 31.2 36.9\n",
      " 21.1 39.5 32.5 32.4 32.8 32.8 30.5 33.7 27.3 37.4 21.9 34.3 40.6 47.9\n",
      " 50.  24.6 25.2 29.  40.9 29.7 37.2 44.2 29.7 31.6 29.9 32.5 29.6 31.9\n",
      " 28.4 30.8 35.4 43.5 29.7 32.7 31.2 67.1 45.  39.1 23.2 34.9 27.7 26.8\n",
      " 27.6 35.9 30.1 32.  27.9 31.6 22.6 33.1 30.4 24.4 39.4 24.3 22.9 34.8\n",
      " 30.9 31.  40.1 27.3 20.4 37.7 23.9 37.5 37.7 33.2 35.5 27.7 42.8 34.2\n",
      " 42.6 34.2 41.8 35.8 30.  29.  37.8 34.6 31.6 28.8 23.6 34.6 35.7 37.2\n",
      " 36.7 45.2 44.  46.2 25.4 35.  29.7 43.6 35.9 44.1 30.8 18.4 29.2 33.1\n",
      " 25.6 27.1 38.2 30.  31.2 52.3 35.4 30.1 31.2 28.  24.4 35.8 27.6 33.6\n",
      " 30.1 28.7 25.9 33.3 30.9 32.1 32.4 32.  33.6 40.  25.1 45.6 25.2 23.\n",
      " 33.2 34.2 40.5 26.5 27.8 24.9 25.3 37.9 35.9 32.4 30.4 27.  26.  38.7\n",
      " 45.6 20.8 36.1 36.9 36.6 43.3 40.5 21.9 35.5 28.  30.7 36.6 23.6 31.6\n",
      " 35.8 52.9 21.  39.7 25.5 24.8 30.5 32.9 26.2 39.4 26.6 29.5 35.9 34.1\n",
      " 19.3 30.5 38.1 23.5 27.5 31.6 27.4 26.8 35.7 25.6 35.1 35.1 45.5 30.8\n",
      " 23.1 32.7 23.6 23.9 47.9 31.2 34.2 39.9 25.9 25.9 32.  34.7 36.8 38.5\n",
      " 28.7 21.8 41.  42.2 31.2 34.4 27.2 42.7 30.4 33.3 35.3 36.5 31.2 29.8\n",
      " 39.2 38.5 34.9 34.  27.6 21.  27.5 32.8 38.4 35.8 34.9 36.2 39.2 25.2\n",
      " 37.2 48.3 43.4 30.8 20.  25.4 25.1 24.3 22.3 32.3 43.3 32.  31.6 32.\n",
      " 45.7 23.7 22.1 32.9 27.7 24.7 34.3 21.1 34.9 32.  24.2 35.  31.6 32.9\n",
      " 42.1 28.9 21.9 25.9 42.4 35.7 34.4 42.4 26.2 34.6 35.7 27.2 38.5 18.2\n",
      " 26.4 45.3 26.  40.6 30.8 42.9 37.  34.1 40.6 35.  30.4 30.  25.6 24.5\n",
      " 37.4 29.9 18.2 36.8 34.3 32.2 33.2 30.5 29.7 59.4 25.3 36.5 33.6 30.5\n",
      " 21.2 28.9 39.9 37.8 33.6 26.7 30.2 37.6 25.9 20.8 21.8 35.3 27.6 24.\n",
      " 21.8 27.8 36.8 46.1 41.3 33.2 38.8 29.9 28.9 27.3 33.7 23.8 25.9 28.\n",
      " 35.5 35.2 27.8 38.2 42.3 40.7 46.5 25.6 26.1 36.8 33.5 32.8 28.9 26.6\n",
      " 26.  30.1 25.1 29.3 25.2 37.2 39.  33.3 37.3 33.3 36.5 28.6 30.4 25.\n",
      " 29.7 22.1 24.2 27.3 25.6 31.6 30.3 37.6 32.8 19.6 25.  33.2 34.2 31.6\n",
      " 21.8 18.2 26.3 30.8 24.6 29.8 45.3 41.3 33.3 29.6 21.7 36.3 36.4 39.4\n",
      " 32.4 34.9 39.5 32.  34.5 43.6 33.1 32.8 28.5 27.4 31.9 27.8 29.9 36.9\n",
      " 25.5 38.1 27.8 46.2 30.1 33.8 41.3 37.6 26.9 32.4 26.1 38.6 32.  31.3\n",
      " 34.3 32.5 22.6 29.5 34.7 30.1 35.5 24.  42.9 27.  34.7 42.1 25.  26.5\n",
      " 38.7 28.7 22.5 34.9 24.3 33.3 46.8 39.4 34.4 28.5 33.6 32.  45.3 27.8\n",
      " 36.8 23.1 27.1 27.8 35.2 35.8 40.  19.5 41.5 24.  30.9 32.9 38.2 32.5\n",
      " 36.1 25.8 28.7 20.1 28.2 38.4 24.2 40.8 43.5 30.8 37.7 24.7 32.4 34.6\n",
      " 24.7 27.4 34.5 26.2 27.5 25.9 31.2 28.8 31.6 40.9 19.5 29.3 34.3 29.5\n",
      " 27.6 39.4 23.4 37.8 28.3 26.4 25.2 33.8 34.1 26.8 34.2 38.7 21.8 38.9\n",
      " 39.  34.2 27.7 42.9 37.6 37.9 33.7 34.8 32.5 27.5 34.  30.9 33.6 25.4\n",
      " 35.5 57.3 35.6 30.9 24.8 35.3 36.  24.2 24.2 49.6 44.6 32.3 33.2 23.1\n",
      " 28.3 24.1 46.1 24.6 42.3 39.1 38.5 23.5 30.4 29.9 34.5 44.5 35.9 27.6\n",
      " 35.  28.4 39.8 34.4 32.8 38.  31.2 29.6 41.2 26.4 29.5 33.9 33.8 23.1\n",
      " 35.5 35.6 29.3 38.1 29.3 39.1 32.8 39.4 36.1 32.4 22.9]\n"
     ]
    }
   ],
   "source": [
    "n_steps = 7\n",
    "\n",
    "X, y = split_sequence(df_pca, n_steps)\n",
    "print(\"입력 데이터 (X):\", X)\n",
    "print(\"출력 데이터 (y):\", y)"
   ]
  },
  {
   "cell_type": "code",
   "execution_count": 63,
   "id": "70ab6be8-8e4e-412f-b424-5e896a871684",
   "metadata": {},
   "outputs": [
    {
     "data": {
      "text/plain": [
       "((436, 7, 6), (137, 7, 6), (436,), (137,), (110, 7, 6), (110,))"
      ]
     },
     "execution_count": 63,
     "metadata": {},
     "output_type": "execute_result"
    }
   ],
   "source": [
    "from sklearn.model_selection import train_test_split\n",
    "\n",
    "X_train, X_test, y_train, y_test = train_test_split(X, y, test_size=0.2, random_state=32)\n",
    "\n",
    "X_train, X_val, y_train, y_val = train_test_split(X_train, y_train, test_size=0.2, random_state=32)\n",
    "\n",
    "X_train.shape, X_test.shape, y_train.shape, y_test.shape, X_val.shape, y_val.shape"
   ]
  },
  {
   "cell_type": "code",
   "execution_count": 71,
   "id": "6e3b3961-5041-492c-a8c1-1d1358f10df6",
   "metadata": {},
   "outputs": [
    {
     "data": {
      "text/plain": [
       "(7, 6)"
      ]
     },
     "execution_count": 71,
     "metadata": {},
     "output_type": "execute_result"
    }
   ],
   "source": [
    "n_timesteps, n_features = X_train.shape[1], X_train.shape[2]\n",
    "n_timesteps , n_features"
   ]
  },
  {
   "cell_type": "code",
   "execution_count": 93,
   "id": "111b1913-e04c-4bd9-a682-46fc80e052fc",
   "metadata": {},
   "outputs": [
    {
     "name": "stdout",
     "output_type": "stream",
     "text": [
      "Model: \"sequential_13\"\n",
      "_________________________________________________________________\n",
      " Layer (type)                Output Shape              Param #   \n",
      "=================================================================\n",
      " conv1d_51 (Conv1D)          (None, 7, 16)             304       \n",
      "                                                                 \n",
      " max_pooling1d_13 (MaxPoolin  (None, 6, 16)            0         \n",
      " g1D)                                                            \n",
      "                                                                 \n",
      " conv1d_52 (Conv1D)          (None, 6, 32)             1568      \n",
      "                                                                 \n",
      " max_pooling1d_14 (MaxPoolin  (None, 5, 32)            0         \n",
      " g1D)                                                            \n",
      "                                                                 \n",
      " conv1d_53 (Conv1D)          (None, 5, 64)             6208      \n",
      "                                                                 \n",
      " conv1d_54 (Conv1D)          (None, 5, 64)             12352     \n",
      "                                                                 \n",
      " conv1d_55 (Conv1D)          (None, 5, 128)            16512     \n",
      "                                                                 \n",
      " flatten_8 (Flatten)         (None, 640)               0         \n",
      "                                                                 \n",
      " dense_20 (Dense)            (None, 128)               82048     \n",
      "                                                                 \n",
      " dense_21 (Dense)            (None, 1)                 129       \n",
      "                                                                 \n",
      "=================================================================\n",
      "Total params: 119,121\n",
      "Trainable params: 119,121\n",
      "Non-trainable params: 0\n",
      "_________________________________________________________________\n"
     ]
    }
   ],
   "source": [
    "from tensorflow.keras.models import Sequential\n",
    "from tensorflow.keras.layers import Conv1D, Dense, Dropout, Flatten, MaxPooling1D\n",
    "\n",
    "model = Sequential()\n",
    "model.add(Conv1D(filters=16, kernel_size=3, activation='tanh', padding='same', input_shape=(n_timesteps, n_features)))\n",
    "model.add(MaxPooling1D(pool_size=2, strides=1))  # strides=1로 설정해 풀링 시 데이터 크기 감소를 줄임\n",
    "model.add(Conv1D(filters=32, kernel_size=3, activation='tanh', padding='same'))\n",
    "model.add(MaxPooling1D(pool_size=2, strides=1))\n",
    "model.add(Conv1D(filters=64, kernel_size=3, activation='tanh', padding='same'))\n",
    "model.add(Conv1D(filters=64, kernel_size=3, activation='tanh', padding='same'))\n",
    "# MaxPooling 제거 또는 입력 데이터 크기 확인 후 사용\n",
    "model.add(Conv1D(filters=128, kernel_size=2, activation='tanh', padding='same'))\n",
    "model.add(Flatten())\n",
    "model.add(Dense(128, activation='tanh'))\n",
    "model.add(Dense(1))  # 출력 레이어, 회귀이므로 'linear' 사용\n",
    "model.compile(loss='mean_squared_error', optimizer='adam', metrics=['mean_squared_error'])\n",
    "model.summary()"
   ]
  },
  {
   "cell_type": "code",
   "execution_count": 94,
   "id": "91db23ce-f11f-4d88-a375-8cb707ebd3d2",
   "metadata": {
    "scrolled": true
   },
   "outputs": [
    {
     "name": "stdout",
     "output_type": "stream",
     "text": [
      "Epoch 1/100\n"
     ]
    },
    {
     "name": "stderr",
     "output_type": "stream",
     "text": [
      "2024-10-09 12:41:30.232376: I tensorflow/core/grappler/optimizers/custom_graph_optimizer_registry.cc:113] Plugin optimizer for device_type GPU is enabled.\n"
     ]
    },
    {
     "name": "stdout",
     "output_type": "stream",
     "text": [
      "7/7 [==============================] - ETA: 0s - loss: 880.4845 - mean_squared_error: 880.4845"
     ]
    },
    {
     "name": "stderr",
     "output_type": "stream",
     "text": [
      "2024-10-09 12:41:31.155540: I tensorflow/core/grappler/optimizers/custom_graph_optimizer_registry.cc:113] Plugin optimizer for device_type GPU is enabled.\n"
     ]
    },
    {
     "name": "stdout",
     "output_type": "stream",
     "text": [
      "7/7 [==============================] - 1s 116ms/step - loss: 880.4845 - mean_squared_error: 880.4845 - val_loss: 442.8377 - val_mean_squared_error: 442.8377\n",
      "Epoch 2/100\n",
      "7/7 [==============================] - 0s 12ms/step - loss: 414.3535 - mean_squared_error: 414.3535 - val_loss: 330.0965 - val_mean_squared_error: 330.0965\n",
      "Epoch 3/100\n",
      "7/7 [==============================] - 0s 11ms/step - loss: 356.8418 - mean_squared_error: 356.8418 - val_loss: 298.4690 - val_mean_squared_error: 298.4690\n",
      "Epoch 4/100\n",
      "7/7 [==============================] - 0s 11ms/step - loss: 324.5667 - mean_squared_error: 324.5667 - val_loss: 268.9445 - val_mean_squared_error: 268.9445\n",
      "Epoch 5/100\n",
      "7/7 [==============================] - 0s 10ms/step - loss: 293.8646 - mean_squared_error: 293.8646 - val_loss: 241.9534 - val_mean_squared_error: 241.9534\n",
      "Epoch 6/100\n",
      "7/7 [==============================] - 0s 9ms/step - loss: 266.7831 - mean_squared_error: 266.7831 - val_loss: 217.1180 - val_mean_squared_error: 217.1180\n",
      "Epoch 7/100\n",
      "7/7 [==============================] - 0s 9ms/step - loss: 241.1703 - mean_squared_error: 241.1703 - val_loss: 194.8531 - val_mean_squared_error: 194.8531\n",
      "Epoch 8/100\n",
      "7/7 [==============================] - 0s 11ms/step - loss: 218.2456 - mean_squared_error: 218.2456 - val_loss: 174.8360 - val_mean_squared_error: 174.8360\n",
      "Epoch 9/100\n",
      "7/7 [==============================] - 0s 11ms/step - loss: 197.8977 - mean_squared_error: 197.8977 - val_loss: 156.8024 - val_mean_squared_error: 156.8024\n",
      "Epoch 10/100\n",
      "7/7 [==============================] - 0s 9ms/step - loss: 179.2123 - mean_squared_error: 179.2123 - val_loss: 140.7947 - val_mean_squared_error: 140.7947\n",
      "Epoch 11/100\n",
      "7/7 [==============================] - 0s 9ms/step - loss: 162.7012 - mean_squared_error: 162.7012 - val_loss: 126.5118 - val_mean_squared_error: 126.5118\n",
      "Epoch 12/100\n",
      "7/7 [==============================] - 0s 9ms/step - loss: 147.8496 - mean_squared_error: 147.8496 - val_loss: 113.8943 - val_mean_squared_error: 113.8943\n",
      "Epoch 13/100\n",
      "7/7 [==============================] - 0s 9ms/step - loss: 134.6160 - mean_squared_error: 134.6160 - val_loss: 102.7797 - val_mean_squared_error: 102.7797\n",
      "Epoch 14/100\n",
      "7/7 [==============================] - 0s 9ms/step - loss: 122.8760 - mean_squared_error: 122.8760 - val_loss: 93.0162 - val_mean_squared_error: 93.0162\n",
      "Epoch 15/100\n",
      "7/7 [==============================] - 0s 9ms/step - loss: 112.4562 - mean_squared_error: 112.4562 - val_loss: 84.4945 - val_mean_squared_error: 84.4945\n",
      "Epoch 16/100\n",
      "7/7 [==============================] - 0s 9ms/step - loss: 103.4941 - mean_squared_error: 103.4941 - val_loss: 77.0233 - val_mean_squared_error: 77.0233\n",
      "Epoch 17/100\n",
      "7/7 [==============================] - 0s 9ms/step - loss: 95.4164 - mean_squared_error: 95.4164 - val_loss: 70.6108 - val_mean_squared_error: 70.6108\n",
      "Epoch 18/100\n",
      "7/7 [==============================] - 0s 9ms/step - loss: 88.3362 - mean_squared_error: 88.3362 - val_loss: 65.1324 - val_mean_squared_error: 65.1324\n",
      "Epoch 19/100\n",
      "7/7 [==============================] - 0s 9ms/step - loss: 82.3228 - mean_squared_error: 82.3228 - val_loss: 60.4010 - val_mean_squared_error: 60.4010\n",
      "Epoch 20/100\n",
      "7/7 [==============================] - 0s 9ms/step - loss: 77.1538 - mean_squared_error: 77.1538 - val_loss: 56.3495 - val_mean_squared_error: 56.3495\n",
      "Epoch 21/100\n",
      "7/7 [==============================] - 0s 9ms/step - loss: 72.5495 - mean_squared_error: 72.5495 - val_loss: 52.9610 - val_mean_squared_error: 52.9610\n",
      "Epoch 22/100\n",
      "7/7 [==============================] - 0s 9ms/step - loss: 68.6046 - mean_squared_error: 68.6046 - val_loss: 50.1417 - val_mean_squared_error: 50.1417\n",
      "Epoch 23/100\n",
      "7/7 [==============================] - 0s 9ms/step - loss: 65.4492 - mean_squared_error: 65.4492 - val_loss: 47.7240 - val_mean_squared_error: 47.7240\n",
      "Epoch 24/100\n",
      "7/7 [==============================] - 0s 9ms/step - loss: 62.4887 - mean_squared_error: 62.4887 - val_loss: 45.7942 - val_mean_squared_error: 45.7942\n",
      "Epoch 25/100\n",
      "7/7 [==============================] - 0s 9ms/step - loss: 60.0894 - mean_squared_error: 60.0894 - val_loss: 44.2263 - val_mean_squared_error: 44.2263\n",
      "Epoch 26/100\n",
      "7/7 [==============================] - 0s 9ms/step - loss: 58.0908 - mean_squared_error: 58.0908 - val_loss: 42.9565 - val_mean_squared_error: 42.9565\n",
      "Epoch 27/100\n",
      "7/7 [==============================] - 0s 9ms/step - loss: 56.4183 - mean_squared_error: 56.4183 - val_loss: 41.9399 - val_mean_squared_error: 41.9399\n",
      "Epoch 28/100\n",
      "7/7 [==============================] - 0s 9ms/step - loss: 54.9698 - mean_squared_error: 54.9698 - val_loss: 41.1506 - val_mean_squared_error: 41.1506\n",
      "Epoch 29/100\n",
      "7/7 [==============================] - 0s 13ms/step - loss: 53.9328 - mean_squared_error: 53.9328 - val_loss: 40.4981 - val_mean_squared_error: 40.4981\n",
      "Epoch 30/100\n",
      "7/7 [==============================] - 0s 9ms/step - loss: 52.8790 - mean_squared_error: 52.8790 - val_loss: 40.0328 - val_mean_squared_error: 40.0328\n",
      "Epoch 31/100\n",
      "7/7 [==============================] - 0s 9ms/step - loss: 52.1712 - mean_squared_error: 52.1712 - val_loss: 39.6706 - val_mean_squared_error: 39.6706\n",
      "Epoch 32/100\n",
      "7/7 [==============================] - 0s 9ms/step - loss: 51.4970 - mean_squared_error: 51.4970 - val_loss: 39.4191 - val_mean_squared_error: 39.4191\n",
      "Epoch 33/100\n",
      "7/7 [==============================] - 0s 9ms/step - loss: 50.9471 - mean_squared_error: 50.9471 - val_loss: 39.2515 - val_mean_squared_error: 39.2515\n",
      "Epoch 34/100\n",
      "7/7 [==============================] - 0s 9ms/step - loss: 50.5469 - mean_squared_error: 50.5469 - val_loss: 39.1418 - val_mean_squared_error: 39.1418\n",
      "Epoch 35/100\n",
      "7/7 [==============================] - 0s 9ms/step - loss: 50.1776 - mean_squared_error: 50.1776 - val_loss: 39.0836 - val_mean_squared_error: 39.0836\n",
      "Epoch 36/100\n",
      "7/7 [==============================] - 0s 10ms/step - loss: 49.9256 - mean_squared_error: 49.9256 - val_loss: 39.0574 - val_mean_squared_error: 39.0574\n",
      "Epoch 37/100\n",
      "7/7 [==============================] - 0s 9ms/step - loss: 49.7247 - mean_squared_error: 49.7247 - val_loss: 39.0593 - val_mean_squared_error: 39.0593\n",
      "Epoch 38/100\n",
      "7/7 [==============================] - 0s 9ms/step - loss: 49.5310 - mean_squared_error: 49.5310 - val_loss: 39.0806 - val_mean_squared_error: 39.0806\n",
      "Epoch 39/100\n",
      "7/7 [==============================] - 0s 9ms/step - loss: 49.3827 - mean_squared_error: 49.3827 - val_loss: 39.1130 - val_mean_squared_error: 39.1130\n",
      "Epoch 40/100\n",
      "7/7 [==============================] - 0s 9ms/step - loss: 49.2874 - mean_squared_error: 49.2874 - val_loss: 39.1578 - val_mean_squared_error: 39.1578\n",
      "Epoch 41/100\n",
      "7/7 [==============================] - 0s 9ms/step - loss: 49.1940 - mean_squared_error: 49.1940 - val_loss: 39.2043 - val_mean_squared_error: 39.2043\n",
      "Epoch 42/100\n",
      "7/7 [==============================] - 0s 9ms/step - loss: 49.1423 - mean_squared_error: 49.1423 - val_loss: 39.2637 - val_mean_squared_error: 39.2637\n",
      "Epoch 43/100\n",
      "7/7 [==============================] - 0s 10ms/step - loss: 49.0757 - mean_squared_error: 49.0757 - val_loss: 39.3153 - val_mean_squared_error: 39.3153\n",
      "Epoch 44/100\n",
      "7/7 [==============================] - 0s 9ms/step - loss: 49.0616 - mean_squared_error: 49.0616 - val_loss: 39.3818 - val_mean_squared_error: 39.3818\n",
      "Epoch 45/100\n",
      "7/7 [==============================] - 0s 9ms/step - loss: 49.0145 - mean_squared_error: 49.0145 - val_loss: 39.4322 - val_mean_squared_error: 39.4322\n",
      "Epoch 46/100\n",
      "7/7 [==============================] - 0s 10ms/step - loss: 48.9854 - mean_squared_error: 48.9854 - val_loss: 39.4758 - val_mean_squared_error: 39.4758\n",
      "Epoch 47/100\n",
      "7/7 [==============================] - 0s 9ms/step - loss: 48.9674 - mean_squared_error: 48.9674 - val_loss: 39.5044 - val_mean_squared_error: 39.5044\n",
      "Epoch 48/100\n",
      "7/7 [==============================] - 0s 9ms/step - loss: 48.9611 - mean_squared_error: 48.9611 - val_loss: 39.5568 - val_mean_squared_error: 39.5568\n",
      "Epoch 49/100\n",
      "7/7 [==============================] - 0s 9ms/step - loss: 48.9504 - mean_squared_error: 48.9504 - val_loss: 39.5967 - val_mean_squared_error: 39.5967\n",
      "Epoch 50/100\n",
      "7/7 [==============================] - 0s 9ms/step - loss: 48.9390 - mean_squared_error: 48.9390 - val_loss: 39.6278 - val_mean_squared_error: 39.6278\n",
      "Epoch 51/100\n",
      "7/7 [==============================] - 0s 9ms/step - loss: 48.9376 - mean_squared_error: 48.9376 - val_loss: 39.6716 - val_mean_squared_error: 39.6716\n",
      "Epoch 52/100\n",
      "7/7 [==============================] - 0s 9ms/step - loss: 48.9300 - mean_squared_error: 48.9300 - val_loss: 39.6971 - val_mean_squared_error: 39.6971\n",
      "Epoch 53/100\n",
      "7/7 [==============================] - 0s 9ms/step - loss: 48.9416 - mean_squared_error: 48.9416 - val_loss: 39.7402 - val_mean_squared_error: 39.7402\n",
      "Epoch 54/100\n",
      "7/7 [==============================] - 0s 9ms/step - loss: 48.9245 - mean_squared_error: 48.9245 - val_loss: 39.7365 - val_mean_squared_error: 39.7365\n",
      "Epoch 55/100\n",
      "7/7 [==============================] - 0s 9ms/step - loss: 48.9253 - mean_squared_error: 48.9253 - val_loss: 39.7426 - val_mean_squared_error: 39.7426\n",
      "Epoch 56/100\n",
      "7/7 [==============================] - 0s 9ms/step - loss: 48.9273 - mean_squared_error: 48.9273 - val_loss: 39.7620 - val_mean_squared_error: 39.7620\n",
      "Epoch 57/100\n",
      "7/7 [==============================] - 0s 9ms/step - loss: 48.9264 - mean_squared_error: 48.9264 - val_loss: 39.7604 - val_mean_squared_error: 39.7604\n",
      "Epoch 58/100\n",
      "7/7 [==============================] - 0s 9ms/step - loss: 48.9251 - mean_squared_error: 48.9251 - val_loss: 39.7624 - val_mean_squared_error: 39.7624\n",
      "Epoch 59/100\n",
      "7/7 [==============================] - 0s 9ms/step - loss: 48.9243 - mean_squared_error: 48.9243 - val_loss: 39.7796 - val_mean_squared_error: 39.7796\n",
      "Epoch 60/100\n",
      "7/7 [==============================] - 0s 9ms/step - loss: 48.9256 - mean_squared_error: 48.9256 - val_loss: 39.8010 - val_mean_squared_error: 39.8010\n",
      "Epoch 61/100\n",
      "7/7 [==============================] - 0s 9ms/step - loss: 48.9244 - mean_squared_error: 48.9244 - val_loss: 39.8119 - val_mean_squared_error: 39.8119\n",
      "Epoch 62/100\n",
      "7/7 [==============================] - 0s 9ms/step - loss: 48.9221 - mean_squared_error: 48.9221 - val_loss: 39.8098 - val_mean_squared_error: 39.8098\n",
      "Epoch 63/100\n",
      "7/7 [==============================] - 0s 9ms/step - loss: 48.9255 - mean_squared_error: 48.9255 - val_loss: 39.7933 - val_mean_squared_error: 39.7933\n",
      "Epoch 64/100\n",
      "7/7 [==============================] - 0s 9ms/step - loss: 48.9302 - mean_squared_error: 48.9302 - val_loss: 39.7735 - val_mean_squared_error: 39.7735\n",
      "Epoch 65/100\n",
      "7/7 [==============================] - 0s 9ms/step - loss: 48.9293 - mean_squared_error: 48.9293 - val_loss: 39.8119 - val_mean_squared_error: 39.8119\n",
      "Epoch 66/100\n",
      "7/7 [==============================] - 0s 9ms/step - loss: 48.9338 - mean_squared_error: 48.9338 - val_loss: 39.8386 - val_mean_squared_error: 39.8386\n",
      "Epoch 67/100\n",
      "7/7 [==============================] - 0s 9ms/step - loss: 48.9283 - mean_squared_error: 48.9283 - val_loss: 39.8092 - val_mean_squared_error: 39.8092\n",
      "Epoch 68/100\n",
      "7/7 [==============================] - 0s 9ms/step - loss: 48.9234 - mean_squared_error: 48.9234 - val_loss: 39.8063 - val_mean_squared_error: 39.8063\n",
      "Epoch 69/100\n",
      "7/7 [==============================] - 0s 13ms/step - loss: 48.9257 - mean_squared_error: 48.9257 - val_loss: 39.7953 - val_mean_squared_error: 39.7953\n",
      "Epoch 70/100\n",
      "7/7 [==============================] - 0s 9ms/step - loss: 48.9233 - mean_squared_error: 48.9233 - val_loss: 39.8143 - val_mean_squared_error: 39.8143\n",
      "Epoch 71/100\n",
      "7/7 [==============================] - 0s 9ms/step - loss: 48.9225 - mean_squared_error: 48.9225 - val_loss: 39.8313 - val_mean_squared_error: 39.8313\n",
      "Epoch 72/100\n",
      "7/7 [==============================] - 0s 9ms/step - loss: 48.9264 - mean_squared_error: 48.9264 - val_loss: 39.8528 - val_mean_squared_error: 39.8528\n",
      "Epoch 73/100\n",
      "7/7 [==============================] - 0s 9ms/step - loss: 48.9224 - mean_squared_error: 48.9224 - val_loss: 39.8493 - val_mean_squared_error: 39.8493\n",
      "Epoch 74/100\n",
      "7/7 [==============================] - 0s 9ms/step - loss: 48.9257 - mean_squared_error: 48.9257 - val_loss: 39.8353 - val_mean_squared_error: 39.8353\n",
      "Epoch 75/100\n",
      "7/7 [==============================] - 0s 9ms/step - loss: 48.9210 - mean_squared_error: 48.9210 - val_loss: 39.8431 - val_mean_squared_error: 39.8431\n",
      "Epoch 76/100\n",
      "7/7 [==============================] - 0s 9ms/step - loss: 48.9240 - mean_squared_error: 48.9240 - val_loss: 39.8463 - val_mean_squared_error: 39.8463\n",
      "Epoch 77/100\n",
      "7/7 [==============================] - 0s 9ms/step - loss: 48.9214 - mean_squared_error: 48.9214 - val_loss: 39.8647 - val_mean_squared_error: 39.8647\n",
      "Epoch 78/100\n",
      "7/7 [==============================] - 0s 9ms/step - loss: 48.9240 - mean_squared_error: 48.9240 - val_loss: 39.8752 - val_mean_squared_error: 39.8752\n",
      "Epoch 79/100\n",
      "7/7 [==============================] - 0s 9ms/step - loss: 48.9218 - mean_squared_error: 48.9218 - val_loss: 39.8719 - val_mean_squared_error: 39.8719\n",
      "Epoch 80/100\n",
      "7/7 [==============================] - 0s 9ms/step - loss: 48.9238 - mean_squared_error: 48.9238 - val_loss: 39.8747 - val_mean_squared_error: 39.8747\n",
      "Epoch 81/100\n",
      "7/7 [==============================] - 0s 9ms/step - loss: 48.9222 - mean_squared_error: 48.9222 - val_loss: 39.8710 - val_mean_squared_error: 39.8710\n",
      "Epoch 82/100\n",
      "7/7 [==============================] - 0s 9ms/step - loss: 48.9256 - mean_squared_error: 48.9256 - val_loss: 39.8775 - val_mean_squared_error: 39.8775\n",
      "Epoch 83/100\n",
      "7/7 [==============================] - 0s 9ms/step - loss: 48.9260 - mean_squared_error: 48.9260 - val_loss: 39.8319 - val_mean_squared_error: 39.8319\n",
      "Epoch 84/100\n",
      "7/7 [==============================] - 0s 10ms/step - loss: 48.9221 - mean_squared_error: 48.9221 - val_loss: 39.8202 - val_mean_squared_error: 39.8202\n",
      "Epoch 85/100\n",
      "7/7 [==============================] - 0s 9ms/step - loss: 48.9245 - mean_squared_error: 48.9245 - val_loss: 39.8307 - val_mean_squared_error: 39.8307\n",
      "Epoch 86/100\n",
      "7/7 [==============================] - 0s 9ms/step - loss: 48.9236 - mean_squared_error: 48.9236 - val_loss: 39.8390 - val_mean_squared_error: 39.8390\n",
      "Epoch 87/100\n",
      "7/7 [==============================] - 0s 9ms/step - loss: 48.9411 - mean_squared_error: 48.9411 - val_loss: 39.7898 - val_mean_squared_error: 39.7898\n",
      "Epoch 88/100\n",
      "7/7 [==============================] - 0s 9ms/step - loss: 48.9219 - mean_squared_error: 48.9219 - val_loss: 39.8113 - val_mean_squared_error: 39.8113\n",
      "Epoch 89/100\n",
      "7/7 [==============================] - 0s 9ms/step - loss: 48.9346 - mean_squared_error: 48.9346 - val_loss: 39.8529 - val_mean_squared_error: 39.8529\n",
      "Epoch 90/100\n",
      "7/7 [==============================] - 0s 9ms/step - loss: 48.9230 - mean_squared_error: 48.9230 - val_loss: 39.8340 - val_mean_squared_error: 39.8340\n",
      "Epoch 91/100\n",
      "7/7 [==============================] - 0s 9ms/step - loss: 48.9262 - mean_squared_error: 48.9262 - val_loss: 39.8470 - val_mean_squared_error: 39.8470\n",
      "Epoch 92/100\n",
      "7/7 [==============================] - 0s 9ms/step - loss: 48.9251 - mean_squared_error: 48.9251 - val_loss: 39.8583 - val_mean_squared_error: 39.8583\n",
      "Epoch 93/100\n",
      "7/7 [==============================] - 0s 9ms/step - loss: 48.9230 - mean_squared_error: 48.9230 - val_loss: 39.8412 - val_mean_squared_error: 39.8412\n",
      "Epoch 94/100\n",
      "7/7 [==============================] - 0s 10ms/step - loss: 48.9251 - mean_squared_error: 48.9251 - val_loss: 39.8234 - val_mean_squared_error: 39.8234\n",
      "Epoch 95/100\n",
      "7/7 [==============================] - 0s 9ms/step - loss: 48.9237 - mean_squared_error: 48.9237 - val_loss: 39.8451 - val_mean_squared_error: 39.8451\n",
      "Epoch 96/100\n",
      "7/7 [==============================] - 0s 13ms/step - loss: 48.9223 - mean_squared_error: 48.9223 - val_loss: 39.8349 - val_mean_squared_error: 39.8349\n",
      "Epoch 97/100\n",
      "7/7 [==============================] - 0s 9ms/step - loss: 48.9239 - mean_squared_error: 48.9239 - val_loss: 39.8421 - val_mean_squared_error: 39.8421\n",
      "Epoch 98/100\n",
      "7/7 [==============================] - 0s 9ms/step - loss: 48.9225 - mean_squared_error: 48.9225 - val_loss: 39.8437 - val_mean_squared_error: 39.8437\n",
      "Epoch 99/100\n",
      "7/7 [==============================] - 0s 9ms/step - loss: 48.9281 - mean_squared_error: 48.9281 - val_loss: 39.8500 - val_mean_squared_error: 39.8500\n",
      "Epoch 100/100\n",
      "7/7 [==============================] - 0s 9ms/step - loss: 48.9228 - mean_squared_error: 48.9228 - val_loss: 39.8542 - val_mean_squared_error: 39.8542\n"
     ]
    }
   ],
   "source": [
    "batch_size = 64\n",
    "\n",
    "train_epochs = 100\n",
    "history = model.fit(X_train, y_train, epochs=train_epochs, batch_size=batch_size, validation_data=(X_val, y_val), verbose=True, shuffle=True)"
   ]
  },
  {
   "cell_type": "code",
   "execution_count": 95,
   "id": "409c32be-b5ed-406d-a79f-3d15fdbace79",
   "metadata": {},
   "outputs": [
    {
     "name": "stdout",
     "output_type": "stream",
     "text": [
      "5/5 [==============================] - 0s 28ms/step - loss: 49.9797 - mean_squared_error: 49.9797\n"
     ]
    },
    {
     "data": {
      "text/plain": [
       "[49.97968673706055, 49.97968673706055]"
      ]
     },
     "execution_count": 95,
     "metadata": {},
     "output_type": "execute_result"
    }
   ],
   "source": [
    "\n",
    "model.evaluate(X_test, y_test)"
   ]
  },
  {
   "cell_type": "code",
   "execution_count": 96,
   "id": "dbfd8b03-f128-43a1-b0a7-7cc7aafeb6a4",
   "metadata": {},
   "outputs": [
    {
     "data": {
      "image/png": "[encoded data removed]",
      "text/plain": [
       "<Figure size 640x480 with 1 Axes>"
      ]
     },
     "metadata": {},
     "output_type": "display_data"
    }
   ],
   "source": [
    "plt.plot(history.history['loss'])\n",
    "plt.plot(history.history['val_loss'])\n",
    "plt.title('Model MSE Loss')  # 'model loss'를 'Model MSE Loss'로 변경\n",
    "plt.ylabel('MSE Loss')  # y축 레이블을 'MSE Loss'로 변경\n",
    "plt.xlabel('Epoch')  # x축 레이블은 'Epoch' 그대로 유지\n",
    "plt.legend(['Train', 'Validation'], loc='upper left')  # 범례 그대로 유지\n",
    "plt.show()"
   ]
  },
  {
   "cell_type": "code",
   "execution_count": 97,
   "id": "9195f7e1-eee1-4252-be78-fcddcc5ba1c1",
   "metadata": {},
   "outputs": [
    {
     "name": "stdout",
     "output_type": "stream",
     "text": [
      "1/5 [=====>........................] - ETA: 0s"
     ]
    },
    {
     "name": "stderr",
     "output_type": "stream",
     "text": [
      "2024-10-09 12:41:45.464816: I tensorflow/core/grappler/optimizers/custom_graph_optimizer_registry.cc:113] Plugin optimizer for device_type GPU is enabled.\n"
     ]
    },
    {
     "name": "stdout",
     "output_type": "stream",
     "text": [
      "5/5 [==============================] - 0s 32ms/step\n",
      "MSE: 49.979686027230606\n",
      "MAE: 5.888575399357037\n",
      "R^2 Score: -0.012245751555524764\n"
     ]
    },
    {
     "data": {
      "text/plain": [
       "Text(0, 0.5, 'Predicted Values')"
      ]
     },
     "execution_count": 97,
     "metadata": {},
     "output_type": "execute_result"
    },
    {
     "data": {
      "image/png": "[encoded data removed]",
      "text/plain": [
       "<Figure size 640x480 with 1 Axes>"
      ]
     },
     "metadata": {},
     "output_type": "display_data"
    }
   ],
   "source": [
    "from sklearn.metrics import mean_squared_error, mean_absolute_error, r2_score\n",
    "\n",
    "predy = model.predict(X_test)\n",
    "\n",
    "mse = mean_squared_error(y_test, predy)\n",
    "mae = mean_absolute_error(y_test, predy)\n",
    "r2 = r2_score(y_test, predy)\n",
    "\n",
    "print(f'MSE: {mse}')\n",
    "print(f'MAE: {mae}')\n",
    "print(f'R^2 Score: {r2}')\n",
    "\n",
    "plt.scatter(y_test, predy, alpha=0.5)\n",
    "plt.plot([min(y_test), max(y_test)], [min(y_test), max(y_test)], color='red', linestyle='--')\n",
    "plt.title('Actual vs Predicted')\n",
    "plt.xlabel('Actual Values')\n",
    "plt.ylabel('Predicted Values')"
   ]
  },
  {
   "cell_type": "markdown",
   "id": "084d9a95-7ba5-45c8-944b-40e0ddf93e07",
   "metadata": {},
   "source": [
    "# Outcome classification with CNN"
   ]
  },
  {
   "cell_type": "code",
   "execution_count": 98,
   "id": "ab3b84aa-eea7-420a-8fab-0243bba5b7ca",
   "metadata": {},
   "outputs": [
    {
     "data": {
      "text/html": [
       "<div>\n",
       "<style scoped>\n",
       "    .dataframe tbody tr th:only-of-type {\n",
       "        vertical-align: middle;\n",
       "    }\n",
       "\n",
       "    .dataframe tbody tr th {\n",
       "        vertical-align: top;\n",
       "    }\n",
       "\n",
       "    .dataframe thead th {\n",
       "        text-align: right;\n",
       "    }\n",
       "</style>\n",
       "<table border=\"1\" class=\"dataframe\">\n",
       "  <thead>\n",
       "    <tr style=\"text-align: right;\">\n",
       "      <th></th>\n",
       "      <th>Pregnancies</th>\n",
       "      <th>Glucose</th>\n",
       "      <th>BloodPressure</th>\n",
       "      <th>SkinThickness</th>\n",
       "      <th>Insulin</th>\n",
       "      <th>BMI</th>\n",
       "      <th>DiabetesPedigreeFunction</th>\n",
       "      <th>Age</th>\n",
       "      <th>Outcome</th>\n",
       "    </tr>\n",
       "  </thead>\n",
       "  <tbody>\n",
       "    <tr>\n",
       "      <th>0</th>\n",
       "      <td>6</td>\n",
       "      <td>148</td>\n",
       "      <td>72</td>\n",
       "      <td>35</td>\n",
       "      <td>0</td>\n",
       "      <td>33.6</td>\n",
       "      <td>0.627</td>\n",
       "      <td>50</td>\n",
       "      <td>1</td>\n",
       "    </tr>\n",
       "    <tr>\n",
       "      <th>1</th>\n",
       "      <td>1</td>\n",
       "      <td>85</td>\n",
       "      <td>66</td>\n",
       "      <td>29</td>\n",
       "      <td>0</td>\n",
       "      <td>26.6</td>\n",
       "      <td>0.351</td>\n",
       "      <td>31</td>\n",
       "      <td>0</td>\n",
       "    </tr>\n",
       "    <tr>\n",
       "      <th>2</th>\n",
       "      <td>8</td>\n",
       "      <td>183</td>\n",
       "      <td>64</td>\n",
       "      <td>0</td>\n",
       "      <td>0</td>\n",
       "      <td>23.3</td>\n",
       "      <td>0.672</td>\n",
       "      <td>32</td>\n",
       "      <td>1</td>\n",
       "    </tr>\n",
       "    <tr>\n",
       "      <th>3</th>\n",
       "      <td>1</td>\n",
       "      <td>89</td>\n",
       "      <td>66</td>\n",
       "      <td>23</td>\n",
       "      <td>94</td>\n",
       "      <td>28.1</td>\n",
       "      <td>0.167</td>\n",
       "      <td>21</td>\n",
       "      <td>0</td>\n",
       "    </tr>\n",
       "    <tr>\n",
       "      <th>4</th>\n",
       "      <td>0</td>\n",
       "      <td>137</td>\n",
       "      <td>40</td>\n",
       "      <td>35</td>\n",
       "      <td>168</td>\n",
       "      <td>43.1</td>\n",
       "      <td>2.288</td>\n",
       "      <td>33</td>\n",
       "      <td>1</td>\n",
       "    </tr>\n",
       "    <tr>\n",
       "      <th>...</th>\n",
       "      <td>...</td>\n",
       "      <td>...</td>\n",
       "      <td>...</td>\n",
       "      <td>...</td>\n",
       "      <td>...</td>\n",
       "      <td>...</td>\n",
       "      <td>...</td>\n",
       "      <td>...</td>\n",
       "      <td>...</td>\n",
       "    </tr>\n",
       "    <tr>\n",
       "      <th>763</th>\n",
       "      <td>10</td>\n",
       "      <td>101</td>\n",
       "      <td>76</td>\n",
       "      <td>48</td>\n",
       "      <td>180</td>\n",
       "      <td>32.9</td>\n",
       "      <td>0.171</td>\n",
       "      <td>63</td>\n",
       "      <td>0</td>\n",
       "    </tr>\n",
       "    <tr>\n",
       "      <th>764</th>\n",
       "      <td>2</td>\n",
       "      <td>122</td>\n",
       "      <td>70</td>\n",
       "      <td>27</td>\n",
       "      <td>0</td>\n",
       "      <td>36.8</td>\n",
       "      <td>0.340</td>\n",
       "      <td>27</td>\n",
       "      <td>0</td>\n",
       "    </tr>\n",
       "    <tr>\n",
       "      <th>765</th>\n",
       "      <td>5</td>\n",
       "      <td>121</td>\n",
       "      <td>72</td>\n",
       "      <td>23</td>\n",
       "      <td>112</td>\n",
       "      <td>26.2</td>\n",
       "      <td>0.245</td>\n",
       "      <td>30</td>\n",
       "      <td>0</td>\n",
       "    </tr>\n",
       "    <tr>\n",
       "      <th>766</th>\n",
       "      <td>1</td>\n",
       "      <td>126</td>\n",
       "      <td>60</td>\n",
       "      <td>0</td>\n",
       "      <td>0</td>\n",
       "      <td>30.1</td>\n",
       "      <td>0.349</td>\n",
       "      <td>47</td>\n",
       "      <td>1</td>\n",
       "    </tr>\n",
       "    <tr>\n",
       "      <th>767</th>\n",
       "      <td>1</td>\n",
       "      <td>93</td>\n",
       "      <td>70</td>\n",
       "      <td>31</td>\n",
       "      <td>0</td>\n",
       "      <td>30.4</td>\n",
       "      <td>0.315</td>\n",
       "      <td>23</td>\n",
       "      <td>0</td>\n",
       "    </tr>\n",
       "  </tbody>\n",
       "</table>\n",
       "<p>768 rows × 9 columns</p>\n",
       "</div>"
      ],
      "text/plain": [
       "     Pregnancies  Glucose  BloodPressure  SkinThickness  Insulin   BMI  \\\n",
       "0              6      148             72             35        0  33.6   \n",
       "1              1       85             66             29        0  26.6   \n",
       "2              8      183             64              0        0  23.3   \n",
       "3              1       89             66             23       94  28.1   \n",
       "4              0      137             40             35      168  43.1   \n",
       "..           ...      ...            ...            ...      ...   ...   \n",
       "763           10      101             76             48      180  32.9   \n",
       "764            2      122             70             27        0  36.8   \n",
       "765            5      121             72             23      112  26.2   \n",
       "766            1      126             60              0        0  30.1   \n",
       "767            1       93             70             31        0  30.4   \n",
       "\n",
       "     DiabetesPedigreeFunction  Age  Outcome  \n",
       "0                       0.627   50        1  \n",
       "1                       0.351   31        0  \n",
       "2                       0.672   32        1  \n",
       "3                       0.167   21        0  \n",
       "4                       2.288   33        1  \n",
       "..                        ...  ...      ...  \n",
       "763                     0.171   63        0  \n",
       "764                     0.340   27        0  \n",
       "765                     0.245   30        0  \n",
       "766                     0.349   47        1  \n",
       "767                     0.315   23        0  \n",
       "\n",
       "[768 rows x 9 columns]"
      ]
     },
     "execution_count": 98,
     "metadata": {},
     "output_type": "execute_result"
    }
   ],
   "source": [
    "df = pd.read_csv(\"/Users/ohheungchan/workspace/AI_Study/diabetes.csv\")\n",
    "df"
   ]
  },
  {
   "cell_type": "code",
   "execution_count": 99,
   "id": "36d90a8f-46d5-4db6-aa1a-5cde3b3a3c43",
   "metadata": {},
   "outputs": [
    {
     "data": {
      "text/plain": [
       "Pregnancies                 0\n",
       "Glucose                     0\n",
       "BloodPressure               0\n",
       "SkinThickness               0\n",
       "Insulin                     0\n",
       "BMI                         0\n",
       "DiabetesPedigreeFunction    0\n",
       "Age                         0\n",
       "Outcome                     0\n",
       "dtype: int64"
      ]
     },
     "execution_count": 99,
     "metadata": {},
     "output_type": "execute_result"
    }
   ],
   "source": [
    "# 결측치 확인\n",
    "df.isnull().sum()"
   ]
  },
  {
   "cell_type": "code",
   "execution_count": 100,
   "id": "ccb81204-191c-40f6-96c0-a522d8377963",
   "metadata": {},
   "outputs": [
    {
     "data": {
      "text/plain": [
       "Text(0.5, 1.0, 'Label')"
      ]
     },
     "execution_count": 100,
     "metadata": {},
     "output_type": "execute_result"
    },
    {
     "data": {
      "image/png": "[encoded data removed]",
      "text/plain": [
       "<Figure size 640x480 with 1 Axes>"
      ]
     },
     "metadata": {},
     "output_type": "display_data"
    }
   ],
   "source": [
    "# 레이블 갯수 확인 (그래프)\n",
    "sns.countplot(data = df, x=\"Outcome\")\n",
    "plt.xlabel(\"Outcome\")\n",
    "plt.ylabel(\"Count\")\n",
    "plt.title(\"Label\")"
   ]
  },
  {
   "cell_type": "code",
   "execution_count": 101,
   "id": "3c33d55b-c854-401f-9a65-803e578cc25a",
   "metadata": {},
   "outputs": [
    {
     "name": "stdout",
     "output_type": "stream",
     "text": [
      "제거 전 데이터 개수:  768\n",
      "제거 후 데이터 개수:  729\n"
     ]
    }
   ],
   "source": [
    "#  BloodPressure, BMI가 0인것은 이상치로 판단하고 이상치 제거\n",
    "print(\"제거 전 데이터 개수: \", len(df))\n",
    "df = df[(df['BloodPressure'] != 0) & \n",
    "        (df['BMI'] != 0)]\n",
    "print(\"제거 후 데이터 개수: \", len(df))"
   ]
  },
  {
   "cell_type": "code",
   "execution_count": 102,
   "id": "725e5322-0520-47ed-8400-dbbc1909be1b",
   "metadata": {},
   "outputs": [
    {
     "name": "stderr",
     "output_type": "stream",
     "text": [
      "/var/folders/9x/8whwzmnj6z5bjc7_h1txd9_r0000gn/T/ipykernel_96002/71297009.py:3: SettingWithCopyWarning: \n",
      "A value is trying to be set on a copy of a slice from a DataFrame.\n",
      "Try using .loc[row_indexer,col_indexer] = value instead\n",
      "\n",
      "See the caveats in the documentation: https://pandas.pydata.org/pandas-docs/stable/user_guide/indexing.html#returning-a-view-versus-a-copy\n",
      "  df[['SkinThickness', 'Insulin']] = df[['SkinThickness', 'Insulin']].replace(0, np.nan)\n",
      "/var/folders/9x/8whwzmnj6z5bjc7_h1txd9_r0000gn/T/ipykernel_96002/71297009.py:6: SettingWithCopyWarning: \n",
      "A value is trying to be set on a copy of a slice from a DataFrame.\n",
      "Try using .loc[row_indexer,col_indexer] = value instead\n",
      "\n",
      "See the caveats in the documentation: https://pandas.pydata.org/pandas-docs/stable/user_guide/indexing.html#returning-a-view-versus-a-copy\n",
      "  df['SkinThickness'] = df['SkinThickness'].fillna(df['SkinThickness'].mean())\n",
      "/var/folders/9x/8whwzmnj6z5bjc7_h1txd9_r0000gn/T/ipykernel_96002/71297009.py:7: SettingWithCopyWarning: \n",
      "A value is trying to be set on a copy of a slice from a DataFrame.\n",
      "Try using .loc[row_indexer,col_indexer] = value instead\n",
      "\n",
      "See the caveats in the documentation: https://pandas.pydata.org/pandas-docs/stable/user_guide/indexing.html#returning-a-view-versus-a-copy\n",
      "  df['Insulin'] = df['Insulin'].fillna(df['Insulin'].mean())\n"
     ]
    }
   ],
   "source": [
    "# 평균에 0인 값이 포함되면 평균치가 달라지므로 0인 값을 NaN으로 대체한 후 평균 계산후 대체\n",
    "# SkinThickness와 Insulin의 0을 NaN으로 변경\n",
    "df[['SkinThickness', 'Insulin']] = df[['SkinThickness', 'Insulin']].replace(0, np.nan)\n",
    "\n",
    "# SkinThickness와 Insulin의 NaN 값을 평균값으로 대체\n",
    "df['SkinThickness'] = df['SkinThickness'].fillna(df['SkinThickness'].mean())\n",
    "df['Insulin'] = df['Insulin'].fillna(df['Insulin'].mean())"
   ]
  },
  {
   "cell_type": "code",
   "execution_count": 103,
   "id": "5f974852-6fd6-48e9-a71a-6f960b799348",
   "metadata": {},
   "outputs": [],
   "source": [
    "from imblearn.over_sampling import SMOTE\n",
    "\n",
    "smote = SMOTE(sampling_strategy='auto', random_state=42)\n",
    "X_resampled, y_resampled = smote.fit_resample(df.drop('Outcome', axis=1), df['Outcome'])"
   ]
  },
  {
   "cell_type": "code",
   "execution_count": 104,
   "id": "c1a8d989-8f3c-41e5-96ab-ea695ccf6f5e",
   "metadata": {},
   "outputs": [
    {
     "data": {
      "text/plain": [
       "array([[ 1.24986236, -0.6698921 ,  0.08278798,  0.60348242],\n",
       "       [-1.65423977,  0.09548648, -0.03875359, -0.26920664],\n",
       "       [ 0.14460895, -0.79217981,  1.49228123,  1.00625698],\n",
       "       ...,\n",
       "       [-0.85272342, -0.22652504,  0.77598914, -0.54744696],\n",
       "       [ 3.20289048, -0.26815964, -0.39964711,  0.9684624 ],\n",
       "       [ 1.3991179 ,  1.81203807, -1.48522902, -0.49003876]])"
      ]
     },
     "execution_count": 104,
     "metadata": {},
     "output_type": "execute_result"
    }
   ],
   "source": [
    "# 2. 데이터 표준화\n",
    "scaler = StandardScaler()\n",
    "X_scaled = scaler.fit_transform(X_resampled)\n",
    "\n",
    "# 3. PCA 적용 (차원 축소)\n",
    "n_components = 4  # 6개의 주성분으로 차원 축소\n",
    "pca = PCA(n_components=n_components)\n",
    "X_pca = pca.fit_transform(X_scaled)\n",
    "X_pca\n"
   ]
  },
  {
   "cell_type": "code",
   "execution_count": 105,
   "id": "53918de8-3ce7-4d21-9667-6b071836db83",
   "metadata": {},
   "outputs": [
    {
     "name": "stdout",
     "output_type": "stream",
     "text": [
      "PCA 주성분 4개의 분산 비율: [0.28174042 0.1894931  0.14186611 0.11857498]\n",
      "PCA 총 분산 비율: 0.73\n"
     ]
    }
   ],
   "source": [
    "# PCA 결과 설명력(분산 비율)\n",
    "explained_variance_ratio = pca.explained_variance_ratio_\n",
    "print(f\"PCA 주성분 {n_components}개의 분산 비율: {explained_variance_ratio}\")\n",
    "print(f\"PCA 총 분산 비율: {np.sum(explained_variance_ratio):.2f}\")\n",
    "\n",
    "# 4. PCA로 축소된 데이터를 CNN 입력을 위해 2D 형태로 재구성\n",
    "X_pca_reshaped = X_pca.reshape(-1, 4, 1)  # Conv1D를 위한 3D 텐서로 변환 (배치, 타임스텝, 특성)"
   ]
  },
  {
   "cell_type": "code",
   "execution_count": 106,
   "id": "e50348de-ca75-4945-9d8c-ab6fb0261562",
   "metadata": {},
   "outputs": [
    {
     "name": "stdout",
     "output_type": "stream",
     "text": [
      "Data shape: (951, 6, 4), Labels shape: (951,)\n"
     ]
    }
   ],
   "source": [
    "from collections import Counter\n",
    "\n",
    "def split_sequence(sequence, labels, n_steps):\n",
    "    X, y = [], []\n",
    "    \n",
    "    # 시퀀스 분할\n",
    "    for i in range(len(sequence)):\n",
    "        end_ix = i + n_steps\n",
    "        \n",
    "        # 끝 인덱스가 시퀀스 길이를 넘지 않도록 확인\n",
    "        if end_ix > len(sequence):\n",
    "            break\n",
    "        \n",
    "        seq_x, seq_y = sequence[i:end_ix], labels[i:end_ix]\n",
    "        \n",
    "        # seq_y가 비어있지 않은지 확인\n",
    "        if len(seq_y) == 0:\n",
    "            continue\n",
    "        \n",
    "        # seq_y에서 가장 많이 등장한 레이블 선택\n",
    "        most_common_label = Counter(seq_y).most_common(1)[0][0]\n",
    "        \n",
    "        # X와 y에 추가\n",
    "        X.append(seq_x)\n",
    "        y.append(most_common_label)\n",
    "    \n",
    "    return np.array(X), np.array(y)\n",
    "\n",
    "# X_pca와 y로 시퀀스 변환 예시\n",
    "n_step = 6\n",
    "X, y = split_sequence(X_pca, y_resampled, n_step)\n",
    "print(f\"Data shape: {X.shape}, Labels shape: {y.shape}\")"
   ]
  },
  {
   "cell_type": "code",
   "execution_count": 107,
   "id": "cc90252a-3849-45a0-af37-7bf23de17249",
   "metadata": {},
   "outputs": [
    {
     "data": {
      "text/plain": [
       "((608, 6, 4), (191, 6, 4), (608,), (191,), (152, 6, 4), (152,))"
      ]
     },
     "execution_count": 107,
     "metadata": {},
     "output_type": "execute_result"
    }
   ],
   "source": [
    "# stratify 없이 데이터 나누기\n",
    "X_train, X_test, y_train, y_test = train_test_split(X, y, test_size=0.2, stratify=y, random_state=32)\n",
    "\n",
    "X_train, X_val, y_train, y_val = train_test_split(X_train, y_train, test_size=0.2, random_state=32)\n",
    "\n",
    "X_train.shape, X_test.shape, y_train.shape, y_test.shape, X_val.shape, y_val.shape"
   ]
  },
  {
   "cell_type": "code",
   "execution_count": 108,
   "id": "b3cd5c73-6d92-4c48-b904-ade43c7217bd",
   "metadata": {},
   "outputs": [
    {
     "data": {
      "text/plain": [
       "(6, 4)"
      ]
     },
     "execution_count": 108,
     "metadata": {},
     "output_type": "execute_result"
    }
   ],
   "source": [
    "n_timesteps, n_features = X_train.shape[1], X_train.shape[2]\n",
    "n_timesteps, n_features"
   ]
  },
  {
   "cell_type": "code",
   "execution_count": 109,
   "id": "c8be13ba-ffda-4fde-920c-261d076e840e",
   "metadata": {},
   "outputs": [
    {
     "name": "stdout",
     "output_type": "stream",
     "text": [
      "Model: \"sequential_14\"\n",
      "_________________________________________________________________\n",
      " Layer (type)                Output Shape              Param #   \n",
      "=================================================================\n",
      " conv1d_56 (Conv1D)          (None, 5, 32)             288       \n",
      "                                                                 \n",
      " batch_normalization_2 (Batc  (None, 5, 32)            128       \n",
      " hNormalization)                                                 \n",
      "                                                                 \n",
      " dropout_2 (Dropout)         (None, 5, 32)             0         \n",
      "                                                                 \n",
      " conv1d_57 (Conv1D)          (None, 4, 64)             4160      \n",
      "                                                                 \n",
      " batch_normalization_3 (Batc  (None, 4, 64)            256       \n",
      " hNormalization)                                                 \n",
      "                                                                 \n",
      " dropout_3 (Dropout)         (None, 4, 64)             0         \n",
      "                                                                 \n",
      " flatten_9 (Flatten)         (None, 256)               0         \n",
      "                                                                 \n",
      " dense_22 (Dense)            (None, 64)                16448     \n",
      "                                                                 \n",
      " dense_23 (Dense)            (None, 1)                 65        \n",
      "                                                                 \n",
      "=================================================================\n",
      "Total params: 21,345\n",
      "Trainable params: 21,153\n",
      "Non-trainable params: 192\n",
      "_________________________________________________________________\n"
     ]
    }
   ],
   "source": [
    "from tensorflow.keras.models import Sequential\n",
    "from tensorflow.keras.layers import Conv1D, MaxPooling1D, Flatten, Dense, BatchNormalization, Dropout\n",
    "\n",
    "# CNN 모델 정의\n",
    "model = Sequential()\n",
    "\n",
    "model.add(Conv1D(filters=32, kernel_size=2, activation='relu', input_shape=(n_timesteps, n_features)))\n",
    "model.add(BatchNormalization())  # Conv1D 후에 BatchNormalization 적용\n",
    "model.add(Dropout(0.3))\n",
    "\n",
    "model.add(Conv1D(filters=64, kernel_size=2, activation='relu'))\n",
    "model.add(BatchNormalization())  # Conv1D 후에 BatchNormalization 적용\n",
    "model.add(Dropout(0.3))\n",
    "\n",
    "# 출력층에 연결하기 위해 Flatten 레이어 사용\n",
    "model.add(Flatten())\n",
    "\n",
    "# Dense 레이어 추가\n",
    "model.add(Dense(64, activation='tanh'))\n",
    "\n",
    "# 출력층 추가 (이진 분류 문제로 가정)\n",
    "model.add(Dense(1, activation='sigmoid'))\n",
    "\n",
    "# 모델 컴파일\n",
    "model.compile(optimizer='adam', metrics=['accuracy'], loss='binary_crossentropy')\n",
    "\n",
    "# 모델 구조 출력\n",
    "model.summary()"
   ]
  },
  {
   "cell_type": "code",
   "execution_count": 110,
   "id": "e3103028-0d2b-4d04-b7b6-b74db3805030",
   "metadata": {
    "scrolled": true
   },
   "outputs": [
    {
     "name": "stdout",
     "output_type": "stream",
     "text": [
      "Epoch 1/100\n"
     ]
    },
    {
     "name": "stderr",
     "output_type": "stream",
     "text": [
      "2024-10-09 12:41:56.176067: I tensorflow/core/grappler/optimizers/custom_graph_optimizer_registry.cc:113] Plugin optimizer for device_type GPU is enabled.\n"
     ]
    },
    {
     "name": "stdout",
     "output_type": "stream",
     "text": [
      "11/19 [================>.............] - ETA: 0s - loss: 0.7178 - accuracy: 0.5653"
     ]
    },
    {
     "name": "stderr",
     "output_type": "stream",
     "text": [
      "2024-10-09 12:41:57.376623: I tensorflow/core/grappler/optimizers/custom_graph_optimizer_registry.cc:113] Plugin optimizer for device_type GPU is enabled.\n"
     ]
    },
    {
     "name": "stdout",
     "output_type": "stream",
     "text": [
      "19/19 [==============================] - 2s 32ms/step - loss: 0.6739 - accuracy: 0.6201 - val_loss: 0.5810 - val_accuracy: 0.6776\n",
      "Epoch 2/100\n",
      "19/19 [==============================] - 0s 9ms/step - loss: 0.5489 - accuracy: 0.7516 - val_loss: 0.5550 - val_accuracy: 0.7171\n",
      "Epoch 3/100\n",
      "19/19 [==============================] - 0s 9ms/step - loss: 0.4881 - accuracy: 0.7549 - val_loss: 0.5507 - val_accuracy: 0.7237\n",
      "Epoch 4/100\n",
      "19/19 [==============================] - 0s 8ms/step - loss: 0.4462 - accuracy: 0.7928 - val_loss: 0.5332 - val_accuracy: 0.7434\n",
      "Epoch 5/100\n",
      "19/19 [==============================] - 0s 8ms/step - loss: 0.4347 - accuracy: 0.8010 - val_loss: 0.5137 - val_accuracy: 0.7829\n",
      "Epoch 6/100\n",
      "19/19 [==============================] - 0s 9ms/step - loss: 0.4437 - accuracy: 0.7944 - val_loss: 0.5069 - val_accuracy: 0.7895\n",
      "Epoch 7/100\n",
      "19/19 [==============================] - 0s 8ms/step - loss: 0.3816 - accuracy: 0.8289 - val_loss: 0.5116 - val_accuracy: 0.7763\n",
      "Epoch 8/100\n",
      "19/19 [==============================] - 0s 10ms/step - loss: 0.3830 - accuracy: 0.8257 - val_loss: 0.4867 - val_accuracy: 0.7961\n",
      "Epoch 9/100\n",
      "19/19 [==============================] - 0s 8ms/step - loss: 0.3704 - accuracy: 0.8388 - val_loss: 0.4879 - val_accuracy: 0.8026\n",
      "Epoch 10/100\n",
      "19/19 [==============================] - 0s 8ms/step - loss: 0.3550 - accuracy: 0.8602 - val_loss: 0.4911 - val_accuracy: 0.7961\n",
      "Epoch 11/100\n",
      "19/19 [==============================] - 0s 9ms/step - loss: 0.3466 - accuracy: 0.8487 - val_loss: 0.4781 - val_accuracy: 0.8026\n",
      "Epoch 12/100\n",
      "19/19 [==============================] - 0s 8ms/step - loss: 0.3372 - accuracy: 0.8569 - val_loss: 0.4884 - val_accuracy: 0.7961\n",
      "Epoch 13/100\n",
      "19/19 [==============================] - 0s 8ms/step - loss: 0.3332 - accuracy: 0.8536 - val_loss: 0.4958 - val_accuracy: 0.8092\n",
      "Epoch 14/100\n",
      "19/19 [==============================] - 0s 8ms/step - loss: 0.3178 - accuracy: 0.8503 - val_loss: 0.4923 - val_accuracy: 0.8092\n",
      "Epoch 15/100\n",
      "19/19 [==============================] - 0s 8ms/step - loss: 0.3227 - accuracy: 0.8635 - val_loss: 0.4724 - val_accuracy: 0.7895\n",
      "Epoch 16/100\n",
      "19/19 [==============================] - 0s 8ms/step - loss: 0.3230 - accuracy: 0.8536 - val_loss: 0.4974 - val_accuracy: 0.7697\n",
      "Epoch 17/100\n",
      "19/19 [==============================] - 0s 8ms/step - loss: 0.3145 - accuracy: 0.8602 - val_loss: 0.4965 - val_accuracy: 0.7829\n",
      "Epoch 18/100\n",
      "19/19 [==============================] - 0s 8ms/step - loss: 0.3009 - accuracy: 0.8701 - val_loss: 0.5046 - val_accuracy: 0.7829\n",
      "Epoch 19/100\n",
      "19/19 [==============================] - 0s 8ms/step - loss: 0.2772 - accuracy: 0.8849 - val_loss: 0.4961 - val_accuracy: 0.7895\n",
      "Epoch 20/100\n",
      "19/19 [==============================] - 0s 8ms/step - loss: 0.2834 - accuracy: 0.8783 - val_loss: 0.4984 - val_accuracy: 0.8092\n",
      "Epoch 21/100\n",
      "19/19 [==============================] - 0s 8ms/step - loss: 0.3031 - accuracy: 0.8750 - val_loss: 0.4728 - val_accuracy: 0.8092\n",
      "Epoch 22/100\n",
      "19/19 [==============================] - 0s 8ms/step - loss: 0.2642 - accuracy: 0.8882 - val_loss: 0.4986 - val_accuracy: 0.7961\n",
      "Epoch 23/100\n",
      "19/19 [==============================] - 0s 7ms/step - loss: 0.2575 - accuracy: 0.8980 - val_loss: 0.4974 - val_accuracy: 0.8026\n",
      "Epoch 24/100\n",
      "19/19 [==============================] - 0s 8ms/step - loss: 0.2622 - accuracy: 0.8980 - val_loss: 0.5080 - val_accuracy: 0.8158\n",
      "Epoch 25/100\n",
      "19/19 [==============================] - 0s 9ms/step - loss: 0.2557 - accuracy: 0.8914 - val_loss: 0.5145 - val_accuracy: 0.8158\n",
      "Epoch 26/100\n",
      "19/19 [==============================] - 0s 8ms/step - loss: 0.2507 - accuracy: 0.8964 - val_loss: 0.5067 - val_accuracy: 0.8026\n",
      "Epoch 27/100\n",
      "19/19 [==============================] - 0s 8ms/step - loss: 0.2650 - accuracy: 0.8898 - val_loss: 0.5173 - val_accuracy: 0.8026\n",
      "Epoch 28/100\n",
      "19/19 [==============================] - 0s 8ms/step - loss: 0.2534 - accuracy: 0.8865 - val_loss: 0.4914 - val_accuracy: 0.7829\n",
      "Epoch 29/100\n",
      "19/19 [==============================] - 0s 8ms/step - loss: 0.2453 - accuracy: 0.9046 - val_loss: 0.4910 - val_accuracy: 0.8092\n",
      "Epoch 30/100\n",
      "19/19 [==============================] - 0s 8ms/step - loss: 0.2490 - accuracy: 0.9030 - val_loss: 0.4988 - val_accuracy: 0.8026\n",
      "Epoch 31/100\n",
      "19/19 [==============================] - 0s 8ms/step - loss: 0.2255 - accuracy: 0.8964 - val_loss: 0.4735 - val_accuracy: 0.8092\n",
      "Epoch 32/100\n",
      "19/19 [==============================] - 0s 8ms/step - loss: 0.2440 - accuracy: 0.8882 - val_loss: 0.5018 - val_accuracy: 0.8092\n",
      "Epoch 33/100\n",
      "19/19 [==============================] - 0s 8ms/step - loss: 0.2207 - accuracy: 0.9128 - val_loss: 0.5068 - val_accuracy: 0.7895\n",
      "Epoch 34/100\n",
      "19/19 [==============================] - 0s 8ms/step - loss: 0.2250 - accuracy: 0.9112 - val_loss: 0.5102 - val_accuracy: 0.7895\n",
      "Epoch 35/100\n",
      "19/19 [==============================] - 0s 8ms/step - loss: 0.2326 - accuracy: 0.9030 - val_loss: 0.5089 - val_accuracy: 0.7895\n",
      "Epoch 36/100\n",
      "19/19 [==============================] - 0s 8ms/step - loss: 0.2288 - accuracy: 0.9161 - val_loss: 0.5065 - val_accuracy: 0.8158\n",
      "Epoch 37/100\n",
      "19/19 [==============================] - 0s 8ms/step - loss: 0.2158 - accuracy: 0.9128 - val_loss: 0.5041 - val_accuracy: 0.7895\n",
      "Epoch 38/100\n",
      "19/19 [==============================] - 0s 8ms/step - loss: 0.2009 - accuracy: 0.9161 - val_loss: 0.4805 - val_accuracy: 0.8289\n",
      "Epoch 39/100\n",
      "19/19 [==============================] - 0s 8ms/step - loss: 0.1880 - accuracy: 0.9309 - val_loss: 0.4917 - val_accuracy: 0.8158\n",
      "Epoch 40/100\n",
      "19/19 [==============================] - 0s 9ms/step - loss: 0.1996 - accuracy: 0.9046 - val_loss: 0.5160 - val_accuracy: 0.8092\n",
      "Epoch 41/100\n",
      "19/19 [==============================] - 0s 8ms/step - loss: 0.2070 - accuracy: 0.9227 - val_loss: 0.5313 - val_accuracy: 0.7961\n",
      "Epoch 42/100\n",
      "19/19 [==============================] - 0s 8ms/step - loss: 0.2115 - accuracy: 0.9211 - val_loss: 0.4957 - val_accuracy: 0.8026\n",
      "Epoch 43/100\n",
      "19/19 [==============================] - 0s 8ms/step - loss: 0.2043 - accuracy: 0.9161 - val_loss: 0.4999 - val_accuracy: 0.8092\n",
      "Epoch 44/100\n",
      "19/19 [==============================] - 0s 8ms/step - loss: 0.1878 - accuracy: 0.9276 - val_loss: 0.4950 - val_accuracy: 0.8158\n",
      "Epoch 45/100\n",
      "19/19 [==============================] - 0s 8ms/step - loss: 0.1764 - accuracy: 0.9309 - val_loss: 0.5184 - val_accuracy: 0.7895\n",
      "Epoch 46/100\n",
      "19/19 [==============================] - 0s 8ms/step - loss: 0.1653 - accuracy: 0.9309 - val_loss: 0.5124 - val_accuracy: 0.8092\n",
      "Epoch 47/100\n",
      "19/19 [==============================] - 0s 8ms/step - loss: 0.1685 - accuracy: 0.9326 - val_loss: 0.5193 - val_accuracy: 0.8224\n",
      "Epoch 48/100\n",
      "19/19 [==============================] - 0s 8ms/step - loss: 0.1958 - accuracy: 0.9227 - val_loss: 0.5501 - val_accuracy: 0.8026\n",
      "Epoch 49/100\n",
      "19/19 [==============================] - 0s 8ms/step - loss: 0.1996 - accuracy: 0.9194 - val_loss: 0.5510 - val_accuracy: 0.8224\n",
      "Epoch 50/100\n",
      "19/19 [==============================] - 0s 8ms/step - loss: 0.1599 - accuracy: 0.9309 - val_loss: 0.5458 - val_accuracy: 0.8289\n",
      "Epoch 51/100\n",
      "19/19 [==============================] - 0s 8ms/step - loss: 0.1469 - accuracy: 0.9424 - val_loss: 0.5572 - val_accuracy: 0.8158\n",
      "Epoch 52/100\n",
      "19/19 [==============================] - 0s 8ms/step - loss: 0.1566 - accuracy: 0.9375 - val_loss: 0.5468 - val_accuracy: 0.7961\n",
      "Epoch 53/100\n",
      "19/19 [==============================] - 0s 8ms/step - loss: 0.1566 - accuracy: 0.9326 - val_loss: 0.5535 - val_accuracy: 0.7895\n",
      "Epoch 54/100\n",
      "19/19 [==============================] - 0s 8ms/step - loss: 0.1304 - accuracy: 0.9507 - val_loss: 0.5462 - val_accuracy: 0.7961\n",
      "Epoch 55/100\n",
      "19/19 [==============================] - 0s 8ms/step - loss: 0.1824 - accuracy: 0.9211 - val_loss: 0.5515 - val_accuracy: 0.8158\n",
      "Epoch 56/100\n",
      "19/19 [==============================] - 0s 8ms/step - loss: 0.1573 - accuracy: 0.9507 - val_loss: 0.5707 - val_accuracy: 0.8026\n",
      "Epoch 57/100\n",
      "19/19 [==============================] - 0s 9ms/step - loss: 0.1357 - accuracy: 0.9539 - val_loss: 0.5746 - val_accuracy: 0.8026\n",
      "Epoch 58/100\n",
      "19/19 [==============================] - 0s 8ms/step - loss: 0.1329 - accuracy: 0.9523 - val_loss: 0.5674 - val_accuracy: 0.8092\n",
      "Epoch 59/100\n",
      "19/19 [==============================] - 0s 9ms/step - loss: 0.1285 - accuracy: 0.9474 - val_loss: 0.5579 - val_accuracy: 0.7895\n",
      "Epoch 60/100\n",
      "19/19 [==============================] - 0s 8ms/step - loss: 0.1430 - accuracy: 0.9441 - val_loss: 0.5259 - val_accuracy: 0.8158\n",
      "Epoch 61/100\n",
      "19/19 [==============================] - 0s 8ms/step - loss: 0.1326 - accuracy: 0.9556 - val_loss: 0.5428 - val_accuracy: 0.8092\n",
      "Epoch 62/100\n",
      "19/19 [==============================] - 0s 8ms/step - loss: 0.1247 - accuracy: 0.9539 - val_loss: 0.5300 - val_accuracy: 0.8224\n",
      "Epoch 63/100\n",
      "19/19 [==============================] - 0s 8ms/step - loss: 0.1016 - accuracy: 0.9671 - val_loss: 0.5341 - val_accuracy: 0.8092\n",
      "Epoch 64/100\n",
      "19/19 [==============================] - 0s 8ms/step - loss: 0.1002 - accuracy: 0.9688 - val_loss: 0.5493 - val_accuracy: 0.8289\n",
      "Epoch 65/100\n",
      "19/19 [==============================] - 0s 8ms/step - loss: 0.1084 - accuracy: 0.9605 - val_loss: 0.5807 - val_accuracy: 0.7895\n",
      "Epoch 66/100\n",
      "19/19 [==============================] - 0s 8ms/step - loss: 0.1231 - accuracy: 0.9523 - val_loss: 0.5556 - val_accuracy: 0.8158\n",
      "Epoch 67/100\n",
      "19/19 [==============================] - 0s 8ms/step - loss: 0.1127 - accuracy: 0.9688 - val_loss: 0.5492 - val_accuracy: 0.8158\n",
      "Epoch 68/100\n",
      "19/19 [==============================] - 0s 8ms/step - loss: 0.1127 - accuracy: 0.9605 - val_loss: 0.5721 - val_accuracy: 0.8092\n",
      "Epoch 69/100\n",
      "19/19 [==============================] - 0s 8ms/step - loss: 0.1216 - accuracy: 0.9589 - val_loss: 0.5313 - val_accuracy: 0.8158\n",
      "Epoch 70/100\n",
      "19/19 [==============================] - 0s 8ms/step - loss: 0.1105 - accuracy: 0.9688 - val_loss: 0.5478 - val_accuracy: 0.8224\n",
      "Epoch 71/100\n",
      "19/19 [==============================] - 0s 8ms/step - loss: 0.1037 - accuracy: 0.9638 - val_loss: 0.5807 - val_accuracy: 0.8158\n",
      "Epoch 72/100\n",
      "19/19 [==============================] - 0s 8ms/step - loss: 0.1196 - accuracy: 0.9572 - val_loss: 0.6094 - val_accuracy: 0.8026\n",
      "Epoch 73/100\n",
      "19/19 [==============================] - 0s 8ms/step - loss: 0.0996 - accuracy: 0.9671 - val_loss: 0.6079 - val_accuracy: 0.8158\n",
      "Epoch 74/100\n",
      "19/19 [==============================] - 0s 8ms/step - loss: 0.1065 - accuracy: 0.9655 - val_loss: 0.5891 - val_accuracy: 0.8158\n",
      "Epoch 75/100\n",
      "19/19 [==============================] - 0s 8ms/step - loss: 0.0866 - accuracy: 0.9704 - val_loss: 0.5898 - val_accuracy: 0.8092\n",
      "Epoch 76/100\n",
      "19/19 [==============================] - 0s 8ms/step - loss: 0.0951 - accuracy: 0.9638 - val_loss: 0.6104 - val_accuracy: 0.7961\n",
      "Epoch 77/100\n",
      "19/19 [==============================] - 0s 9ms/step - loss: 0.1021 - accuracy: 0.9671 - val_loss: 0.6126 - val_accuracy: 0.8158\n",
      "Epoch 78/100\n",
      "19/19 [==============================] - 0s 8ms/step - loss: 0.0907 - accuracy: 0.9688 - val_loss: 0.6481 - val_accuracy: 0.7961\n",
      "Epoch 79/100\n",
      "19/19 [==============================] - 0s 8ms/step - loss: 0.0834 - accuracy: 0.9737 - val_loss: 0.6252 - val_accuracy: 0.8092\n",
      "Epoch 80/100\n",
      "19/19 [==============================] - 0s 8ms/step - loss: 0.0857 - accuracy: 0.9704 - val_loss: 0.5989 - val_accuracy: 0.8026\n",
      "Epoch 81/100\n",
      "19/19 [==============================] - 0s 9ms/step - loss: 0.0901 - accuracy: 0.9770 - val_loss: 0.5991 - val_accuracy: 0.8026\n",
      "Epoch 82/100\n",
      "19/19 [==============================] - 0s 8ms/step - loss: 0.1018 - accuracy: 0.9572 - val_loss: 0.6123 - val_accuracy: 0.8092\n",
      "Epoch 83/100\n",
      "19/19 [==============================] - 0s 8ms/step - loss: 0.0904 - accuracy: 0.9720 - val_loss: 0.6543 - val_accuracy: 0.7961\n",
      "Epoch 84/100\n",
      "19/19 [==============================] - 0s 8ms/step - loss: 0.0786 - accuracy: 0.9786 - val_loss: 0.6563 - val_accuracy: 0.7829\n",
      "Epoch 85/100\n",
      "19/19 [==============================] - 0s 8ms/step - loss: 0.0887 - accuracy: 0.9720 - val_loss: 0.6390 - val_accuracy: 0.7829\n",
      "Epoch 86/100\n",
      "19/19 [==============================] - 0s 9ms/step - loss: 0.0881 - accuracy: 0.9622 - val_loss: 0.6139 - val_accuracy: 0.8224\n",
      "Epoch 87/100\n",
      "19/19 [==============================] - 0s 8ms/step - loss: 0.0985 - accuracy: 0.9572 - val_loss: 0.6281 - val_accuracy: 0.8092\n",
      "Epoch 88/100\n",
      "19/19 [==============================] - 0s 8ms/step - loss: 0.0892 - accuracy: 0.9688 - val_loss: 0.6177 - val_accuracy: 0.7829\n",
      "Epoch 89/100\n",
      "19/19 [==============================] - 0s 8ms/step - loss: 0.0928 - accuracy: 0.9688 - val_loss: 0.6093 - val_accuracy: 0.8026\n",
      "Epoch 90/100\n",
      "19/19 [==============================] - 0s 8ms/step - loss: 0.0652 - accuracy: 0.9803 - val_loss: 0.6369 - val_accuracy: 0.7961\n",
      "Epoch 91/100\n",
      "19/19 [==============================] - 0s 8ms/step - loss: 0.0728 - accuracy: 0.9786 - val_loss: 0.6157 - val_accuracy: 0.7895\n",
      "Epoch 92/100\n",
      "19/19 [==============================] - 0s 8ms/step - loss: 0.0760 - accuracy: 0.9737 - val_loss: 0.6548 - val_accuracy: 0.7895\n",
      "Epoch 93/100\n",
      "19/19 [==============================] - 0s 8ms/step - loss: 0.0871 - accuracy: 0.9720 - val_loss: 0.6385 - val_accuracy: 0.7895\n",
      "Epoch 94/100\n",
      "19/19 [==============================] - 0s 8ms/step - loss: 0.0777 - accuracy: 0.9704 - val_loss: 0.6643 - val_accuracy: 0.7763\n",
      "Epoch 95/100\n",
      "19/19 [==============================] - 0s 9ms/step - loss: 0.0547 - accuracy: 0.9868 - val_loss: 0.6725 - val_accuracy: 0.7829\n",
      "Epoch 96/100\n",
      "19/19 [==============================] - 0s 8ms/step - loss: 0.0641 - accuracy: 0.9786 - val_loss: 0.6556 - val_accuracy: 0.7895\n",
      "Epoch 97/100\n",
      "19/19 [==============================] - 0s 8ms/step - loss: 0.0516 - accuracy: 0.9868 - val_loss: 0.6621 - val_accuracy: 0.7895\n",
      "Epoch 98/100\n",
      "19/19 [==============================] - 0s 8ms/step - loss: 0.0804 - accuracy: 0.9753 - val_loss: 0.6365 - val_accuracy: 0.7895\n",
      "Epoch 99/100\n",
      "19/19 [==============================] - 0s 8ms/step - loss: 0.0884 - accuracy: 0.9720 - val_loss: 0.6371 - val_accuracy: 0.8026\n",
      "Epoch 100/100\n",
      "19/19 [==============================] - 0s 9ms/step - loss: 0.0633 - accuracy: 0.9737 - val_loss: 0.6453 - val_accuracy: 0.7961\n"
     ]
    }
   ],
   "source": [
    "batch_size = 32\n",
    "\n",
    "train_epochs = 100\n",
    "history = model.fit(X_train, y_train, epochs=train_epochs, batch_size=batch_size, validation_data=(X_val, y_val), verbose=True, shuffle=True)"
   ]
  },
  {
   "cell_type": "code",
   "execution_count": 112,
   "id": "2a811bed-aea2-4341-aa20-b581f04b8a4a",
   "metadata": {},
   "outputs": [
    {
     "data": {
      "image/png": "[encoded data removed]",
      "text/plain": [
       "<Figure size 1000x600 with 1 Axes>"
      ]
     },
     "metadata": {},
     "output_type": "display_data"
    }
   ],
   "source": [
    "# 손실과 검증 손실 값 가져오기\n",
    "loss = history.history['loss']\n",
    "val_loss = history.history['val_loss']\n",
    "epochs = range(1, len(loss) + 1)\n",
    "\n",
    "# 손실 그래프 그리기\n",
    "plt.figure(figsize=(10, 6))\n",
    "plt.plot(epochs, loss, 'b', label='Training Loss')\n",
    "plt.plot(epochs, val_loss, 'r', label='Validation Loss')\n",
    "plt.title('Training and Validation Loss')\n",
    "plt.xlabel('Epochs')\n",
    "plt.ylabel('Loss')\n",
    "plt.legend()\n",
    "\n",
    "plt.show()"
   ]
  },
  {
   "cell_type": "code",
   "execution_count": 113,
   "id": "a53e10e4-6ca9-4006-92e6-3201af1a97d8",
   "metadata": {},
   "outputs": [
    {
     "data": {
      "image/png": "[encoded data removed]",
      "text/plain": [
       "<Figure size 1000x600 with 1 Axes>"
      ]
     },
     "metadata": {},
     "output_type": "display_data"
    }
   ],
   "source": [
    "# 정확도와 검증 정확도 값 가져오기\n",
    "acc = history.history['accuracy']  # 또는 'acc' 키 사용 (버전에 따라 다름)\n",
    "val_acc = history.history['val_accuracy']\n",
    "epochs = range(1, len(acc) + 1)\n",
    "\n",
    "# 정확도 그래프 그리기\n",
    "plt.figure(figsize=(10, 6))\n",
    "plt.plot(epochs, acc, 'b', label='Training Accuracy')\n",
    "plt.plot(epochs, val_acc, 'r', label='Validation Accuracy')\n",
    "plt.title('Training and Validation Accuracy')\n",
    "plt.xlabel('Epochs')\n",
    "plt.ylabel('Accuracy')  # y축 라벨을 'Accuracy'로 수정\n",
    "plt.legend()\n",
    "\n",
    "plt.show()"
   ]
  },
  {
   "cell_type": "code",
   "execution_count": 114,
   "id": "f984ee4c-d4ab-4adb-bc39-c9c86716f9e3",
   "metadata": {},
   "outputs": [
    {
     "name": "stdout",
     "output_type": "stream",
     "text": [
      "6/6 [==============================] - 0s 30ms/step - loss: 0.6404 - accuracy: 0.7853\n"
     ]
    },
    {
     "data": {
      "text/plain": [
       "[0.6404386758804321, 0.7853403091430664]"
      ]
     },
     "execution_count": 114,
     "metadata": {},
     "output_type": "execute_result"
    }
   ],
   "source": [
    "model.evaluate(X_test , y_test)"
   ]
  },
  {
   "cell_type": "code",
   "execution_count": 115,
   "id": "031a2f7d-69fa-4ffb-bbf7-23384609f95c",
   "metadata": {},
   "outputs": [
    {
     "name": "stdout",
     "output_type": "stream",
     "text": [
      "1/6 [====>.........................] - ETA: 0s"
     ]
    },
    {
     "name": "stderr",
     "output_type": "stream",
     "text": [
      "2024-10-09 12:42:27.741924: I tensorflow/core/grappler/optimizers/custom_graph_optimizer_registry.cc:113] Plugin optimizer for device_type GPU is enabled.\n"
     ]
    },
    {
     "name": "stdout",
     "output_type": "stream",
     "text": [
      "6/6 [==============================] - 0s 21ms/step\n",
      "[[97 15]\n",
      " [26 53]]\n",
      "0.7853403141361257\n",
      "0.782332779385565\n",
      "              precision    recall  f1-score   support\n",
      "\n",
      "           0       0.79      0.87      0.83       112\n",
      "           1       0.78      0.67      0.72        79\n",
      "\n",
      "    accuracy                           0.79       191\n",
      "   macro avg       0.78      0.77      0.77       191\n",
      "weighted avg       0.78      0.79      0.78       191\n",
      "\n"
     ]
    },
    {
     "data": {
      "text/plain": [
       "<Axes: >"
      ]
     },
     "execution_count": 115,
     "metadata": {},
     "output_type": "execute_result"
    },
    {
     "data": {
      "image/png": "[encoded data removed]",
      "text/plain": [
       "<Figure size 640x480 with 2 Axes>"
      ]
     },
     "metadata": {},
     "output_type": "display_data"
    }
   ],
   "source": [
    "from sklearn.metrics import confusion_matrix,classification_report,accuracy_score,f1_score\n",
    "\n",
    "# 모델이 예측한 값 (클래스 1의 확률값)\n",
    "predy = model.predict(X_test)\n",
    "\n",
    "# 이진 분류 문제에서는 0.5를 기준으로 0과 1로 변환\n",
    "predy = (predy > 0.5).astype(int)\n",
    "\n",
    "# Confusion Matrix와 성능 지표 출력\n",
    "LABELS = ['X', 'O']\n",
    "cm = confusion_matrix(y_test, predy)\n",
    "print(cm)\n",
    "print(accuracy_score(y_test, predy))\n",
    "print(f1_score(y_test, predy, average='weighted'))\n",
    "print(classification_report(y_test, predy))\n",
    "\n",
    "# Confusion Matrix 시각화\n",
    "sns.heatmap(cm, cmap=\"Reds\", xticklabels=LABELS, yticklabels=LABELS, annot=True, fmt='.2f')"
   ]
  },
  {
   "cell_type": "code",
   "execution_count": null,
   "id": "a529655d-d63b-4a5b-b39b-6fc7392bc6da",
   "metadata": {},
   "outputs": [],
   "source": []
  }
 ],
 "metadata": {
  "kernelspec": {
   "display_name": "Python 3 (ipykernel)",
   "language": "python",
   "name": "python3"
  },
  "language_info": {
   "codemirror_mode": {
    "name": "ipython",
    "version": 3
   },
   "file_extension": ".py",
   "mimetype": "text/x-python",
   "name": "python",
   "nbconvert_exporter": "python",
   "pygments_lexer": "ipython3",
   "version": "3.9.18"
  }
 },
 "nbformat": 4,
 "nbformat_minor": 5
}
